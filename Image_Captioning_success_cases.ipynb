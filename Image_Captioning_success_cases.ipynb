{
  "cells": [
    {
      "cell_type": "markdown",
      "source": [
        "# Import the Dataset\n",
        "#### Uplaoded the zipped dataset into google drive and did mount drive to access the dataset from colab"
      ],
      "metadata": {
        "id": "aI4164Cs9tgL"
      }
    },
    {
      "cell_type": "code",
      "execution_count": 1,
      "metadata": {
        "colab": {
          "base_uri": "https://localhost:8080/"
        },
        "id": "umP6ZLAlRm35",
        "outputId": "1fe8f28c-feb8-4544-abfd-8adf3b5eeabb"
      },
      "outputs": [
        {
          "output_type": "stream",
          "name": "stdout",
          "text": [
            "Mounted at /content/drive\n"
          ]
        }
      ],
      "source": [
        "from google.colab import drive\n",
        "drive.mount('/content/drive', force_remount=True)"
      ]
    },
    {
      "cell_type": "markdown",
      "source": [
        "#### Stored the extracted data in separate folder called flikr"
      ],
      "metadata": {
        "id": "2yj1pv_W_94k"
      }
    },
    {
      "cell_type": "code",
      "execution_count": 2,
      "metadata": {
        "id": "jAGhMy-CRzVM"
      },
      "outputs": [],
      "source": [
        "import zipfile\n",
        "import os\n",
        "\n",
        "zip_ref = zipfile.ZipFile('/content/drive/MyDrive/archive2.zip', 'r') #Opens the zip file in read mode\n",
        "zip_ref.extractall('/content/flikr') #Extracts the files into the /tmp folder\n",
        "zip_ref.close()"
      ]
    },
    {
      "cell_type": "code",
      "execution_count": 3,
      "metadata": {
        "colab": {
          "base_uri": "https://localhost:8080/"
        },
        "id": "RVzyzEKBR-YE",
        "outputId": "19bbd651-f7f6-433b-c1a0-5939fdc29ae7"
      },
      "outputs": [
        {
          "output_type": "execute_result",
          "data": {
            "text/plain": [
              "8091"
            ]
          },
          "metadata": {},
          "execution_count": 3
        }
      ],
      "source": [
        "len(os.listdir('/content/flikr/images/'))"
      ]
    },
    {
      "cell_type": "markdown",
      "source": [
        "#### Importing the required libraries"
      ],
      "metadata": {
        "id": "T-LoiLoWAKpP"
      }
    },
    {
      "cell_type": "code",
      "execution_count": 4,
      "metadata": {
        "id": "MDG3yNx0SBNt"
      },
      "outputs": [],
      "source": [
        "import pandas as pd\n",
        "from pathlib import Path"
      ]
    },
    {
      "cell_type": "code",
      "execution_count": 5,
      "metadata": {
        "id": "j6hz9PZ3SKA2"
      },
      "outputs": [],
      "source": [
        "# create an empty dataframe with 'imgs' column\n",
        "df = pd.DataFrame(columns=['imgs'])\n",
        "\n",
        "\n",
        "# we will store the image files and captions here before putting it into dataframe\n",
        "imgs, captions = [], []"
      ]
    },
    {
      "cell_type": "code",
      "execution_count": 6,
      "metadata": {
        "id": "ms0m6lYvSMik"
      },
      "outputs": [],
      "source": [
        "with open(\"/content/flikr/captions.txt\", \"r\") as f:\n",
        "    content = f.readlines()"
      ]
    },
    {
      "cell_type": "code",
      "execution_count": 7,
      "metadata": {
        "colab": {
          "base_uri": "https://localhost:8080/",
          "height": 36
        },
        "id": "cWL0BsaqSSSP",
        "outputId": "5c953f93-6941-4b71-b3d8-d7bc81498ebd"
      },
      "outputs": [
        {
          "output_type": "execute_result",
          "data": {
            "text/plain": [
              "'image_name|caption_number|caption_text\\n'"
            ],
            "application/vnd.google.colaboratory.intrinsic+json": {
              "type": "string"
            }
          },
          "metadata": {},
          "execution_count": 7
        }
      ],
      "source": [
        "content[0]"
      ]
    },
    {
      "cell_type": "code",
      "execution_count": 8,
      "metadata": {
        "colab": {
          "base_uri": "https://localhost:8080/"
        },
        "id": "bxp4Bll3SUDT",
        "outputId": "6597e2c0-57d7-4ab1-accc-4023008652ed"
      },
      "outputs": [
        {
          "output_type": "execute_result",
          "data": {
            "text/plain": [
              "40456"
            ]
          },
          "metadata": {},
          "execution_count": 8
        }
      ],
      "source": [
        "len(content)"
      ]
    },
    {
      "cell_type": "code",
      "execution_count": 9,
      "metadata": {
        "id": "6Yp1pgOEUSm1"
      },
      "outputs": [],
      "source": [
        "root_dir = Path(\"/content/flikr\")"
      ]
    },
    {
      "cell_type": "markdown",
      "source": [
        "#### Extracting the first caption of the image and mapping the caption to the image's location. finally storing it in the dataframe"
      ],
      "metadata": {
        "id": "Fe0WCvzFAQhs"
      }
    },
    {
      "cell_type": "code",
      "execution_count": 10,
      "metadata": {
        "id": "ItAxatD3SVsB"
      },
      "outputs": [],
      "source": [
        "for line in content:\n",
        "    line = line.strip().split(\"|\")\n",
        "\n",
        "    # extract the required informations\n",
        "    img_path = line[0]\n",
        "    caption_number = line[1]\n",
        "    caption = line[-1]\n",
        "\n",
        "    # check if the caption_number is equal to 1\n",
        "    if caption_number == '1':\n",
        "        # store the image path\n",
        "        imgs.append(root_dir/\"images\"/img_path)\n",
        "        # store the caption\n",
        "        captions.append(caption)"
      ]
    },
    {
      "cell_type": "code",
      "execution_count": 11,
      "metadata": {
        "id": "kwHOiA5FUJ70"
      },
      "outputs": [],
      "source": [
        "df.loc[:, 'imgs'] = imgs\n",
        "df.loc[:, 'captions'] = captions"
      ]
    },
    {
      "cell_type": "code",
      "execution_count": 12,
      "metadata": {
        "colab": {
          "base_uri": "https://localhost:8080/"
        },
        "id": "9VgglUwZUg-O",
        "outputId": "b395df5f-2c8b-43df-8e81-abc37ff0299e"
      },
      "outputs": [
        {
          "output_type": "execute_result",
          "data": {
            "text/plain": [
              "8091"
            ]
          },
          "metadata": {},
          "execution_count": 12
        }
      ],
      "source": [
        "len(df)"
      ]
    },
    {
      "cell_type": "markdown",
      "source": [
        "#### Install transformers for the usage of GPT2 transformer to initialize the weights"
      ],
      "metadata": {
        "id": "uCrhJiyxAqxn"
      }
    },
    {
      "cell_type": "code",
      "execution_count": 13,
      "metadata": {
        "colab": {
          "base_uri": "https://localhost:8080/"
        },
        "id": "z4PjCPnCUmmt",
        "outputId": "78237cbd-a91e-4928-8c2a-0f53d6a52334"
      },
      "outputs": [
        {
          "output_type": "stream",
          "name": "stdout",
          "text": [
            "Looking in indexes: https://pypi.org/simple, https://us-python.pkg.dev/colab-wheels/public/simple/\n",
            "Collecting transformers\n",
            "  Downloading transformers-4.29.2-py3-none-any.whl (7.1 MB)\n",
            "\u001b[2K     \u001b[90m━━━━━━━━━━━━━━━━━━━━━━━━━━━━━━━━━━━━━━━━\u001b[0m \u001b[32m7.1/7.1 MB\u001b[0m \u001b[31m72.3 MB/s\u001b[0m eta \u001b[36m0:00:00\u001b[0m\n",
            "\u001b[?25hRequirement already satisfied: filelock in /usr/local/lib/python3.10/dist-packages (from transformers) (3.12.0)\n",
            "Collecting huggingface-hub<1.0,>=0.14.1 (from transformers)\n",
            "  Downloading huggingface_hub-0.14.1-py3-none-any.whl (224 kB)\n",
            "\u001b[2K     \u001b[90m━━━━━━━━━━━━━━━━━━━━━━━━━━━━━━━━━━━━━━\u001b[0m \u001b[32m224.5/224.5 kB\u001b[0m \u001b[31m26.4 MB/s\u001b[0m eta \u001b[36m0:00:00\u001b[0m\n",
            "\u001b[?25hRequirement already satisfied: numpy>=1.17 in /usr/local/lib/python3.10/dist-packages (from transformers) (1.22.4)\n",
            "Requirement already satisfied: packaging>=20.0 in /usr/local/lib/python3.10/dist-packages (from transformers) (23.1)\n",
            "Requirement already satisfied: pyyaml>=5.1 in /usr/local/lib/python3.10/dist-packages (from transformers) (6.0)\n",
            "Requirement already satisfied: regex!=2019.12.17 in /usr/local/lib/python3.10/dist-packages (from transformers) (2022.10.31)\n",
            "Requirement already satisfied: requests in /usr/local/lib/python3.10/dist-packages (from transformers) (2.27.1)\n",
            "Collecting tokenizers!=0.11.3,<0.14,>=0.11.1 (from transformers)\n",
            "  Downloading tokenizers-0.13.3-cp310-cp310-manylinux_2_17_x86_64.manylinux2014_x86_64.whl (7.8 MB)\n",
            "\u001b[2K     \u001b[90m━━━━━━━━━━━━━━━━━━━━━━━━━━━━━━━━━━━━━━━━\u001b[0m \u001b[32m7.8/7.8 MB\u001b[0m \u001b[31m91.1 MB/s\u001b[0m eta \u001b[36m0:00:00\u001b[0m\n",
            "\u001b[?25hRequirement already satisfied: tqdm>=4.27 in /usr/local/lib/python3.10/dist-packages (from transformers) (4.65.0)\n",
            "Requirement already satisfied: fsspec in /usr/local/lib/python3.10/dist-packages (from huggingface-hub<1.0,>=0.14.1->transformers) (2023.4.0)\n",
            "Requirement already satisfied: typing-extensions>=3.7.4.3 in /usr/local/lib/python3.10/dist-packages (from huggingface-hub<1.0,>=0.14.1->transformers) (4.5.0)\n",
            "Requirement already satisfied: urllib3<1.27,>=1.21.1 in /usr/local/lib/python3.10/dist-packages (from requests->transformers) (1.26.15)\n",
            "Requirement already satisfied: certifi>=2017.4.17 in /usr/local/lib/python3.10/dist-packages (from requests->transformers) (2022.12.7)\n",
            "Requirement already satisfied: charset-normalizer~=2.0.0 in /usr/local/lib/python3.10/dist-packages (from requests->transformers) (2.0.12)\n",
            "Requirement already satisfied: idna<4,>=2.5 in /usr/local/lib/python3.10/dist-packages (from requests->transformers) (3.4)\n",
            "Installing collected packages: tokenizers, huggingface-hub, transformers\n",
            "Successfully installed huggingface-hub-0.14.1 tokenizers-0.13.3 transformers-4.29.2\n"
          ]
        }
      ],
      "source": [
        "! pip install transformers"
      ]
    },
    {
      "cell_type": "markdown",
      "source": [
        "#### Tokenizer in NLP: The AutoTokenizer in NLP processes text by tokenizing it, converting it into numerical representations, and handling preprocessing steps. It prepares the text in a format suitable for direct input to the model.\n",
        "\n",
        "#### Feature Extractor in CV: The feature extractor in computer vision processes an image to prepare it for the vision model. It transforms the image into a format appropriate for direct input, extracting relevant features that the model can utilize."
      ],
      "metadata": {
        "id": "Io5ASGzPB8d5"
      }
    },
    {
      "cell_type": "code",
      "execution_count": 14,
      "metadata": {
        "colab": {
          "base_uri": "https://localhost:8080/",
          "height": 264,
          "referenced_widgets": [
            "7b0f66ee87c84d178384c0402867d8c9",
            "a9e3c261c2404f43bea4658e49a3dc00",
            "4061a9d74c8b499da38298040aa9bfce",
            "c7170ca7c2dc4ba48782978b7f70c878",
            "3497e43214ab47109b552d505761933e",
            "04c3db54fa7e45e9925615546bd99487",
            "535f975ae60e4d508b1a816812ab05d4",
            "70e2d7722fba413fa7862d827e12d610",
            "74a52da018044bfc93b665fb6027f5f6",
            "a6399b789ade4454a5b215681ff1189e",
            "3cfb189630b44c2ba89039818cf06c07",
            "1b123f2249c244988f87b6a7c529fa03",
            "bf54f037d26049eeac6928bf6d16e55b",
            "260073e67ef64020a3cb07b0daa67591",
            "fdaae8c1af5c467ca7097b11f3391064",
            "ba6663af3d394b8191c1348172a394ca",
            "2bc9277660ac4314aa39d8b482b1758d",
            "7010b9b5899a4a6eae6dc2682b4ab3c5",
            "1e425da4e2344fe4b9a8f4be222695c1",
            "ffd741fc896840a3a8977089ae0ce0ac",
            "bd1fc0f5d8644cfc9217b8b3850d6d56",
            "35b7487177ac4c689c10c3a4904d6f6d",
            "0753104aac05427bae391d2487564d36",
            "477806f6122449e0af875f370e44391d",
            "639ef25d5c5f4cca980adfecdfc932de",
            "ae3cf27356fe45119d8aa1e0a0bf6310",
            "f2aadab5f7264cd6bfb5968d55ead3f0",
            "9496642b39dc4c52a91b531081050a23",
            "9763d544a11b4324ad0525d9ddb3e8d6",
            "902e3a2c11f3406f852076e6400c137f",
            "1eaa1b15fa1d4a899b42eb0c41963be7",
            "6624a4071e104774a76bd2610a3de5f3",
            "cecd7bbdb3ff496793821c548c1c9b79",
            "8d9885c17e11406ea456ae08463b55ca",
            "2384b89428654ca5a4cbc784e8361da8",
            "6f9104fdb5f3432187a8d5129f1f73ff",
            "e28226cfbcf0427283ccb4642bef934c",
            "2a12645f0600461ba04c21bbf0f1b1b0",
            "d8d5cd00ec844511abfb083f6380a17a",
            "aa2e744581614f88b287fa0610d0a18f",
            "83fbe9f1c9c14af9a8b8962d374a6024",
            "09dadc1687fc45d88e8e227fdb113549",
            "55cff5545dca42ea87313b9cd32be627",
            "8b0117df2b02429c96f1885cd10fb647",
            "ffb88aa761574b08b34c66456e47016d",
            "a4cb587576064c7b8d52b907e1973c56",
            "cb46da5351c044a2b9784f7189fa6ac9",
            "c052324910b7410fa011b4b1f7193581",
            "1088153c92ff4424a9e7c7133351de3a",
            "6a4bde34309043249c3906fa29966ba5",
            "da491279f42548a3bd000502f852dce5",
            "9b3f75a6a2fe4c4d8fc7c323d45b5296",
            "0ef7746b4148422d982e4de79ae72768",
            "3eabacf90911482582373ebe08c12a5b",
            "92501563eeb440f0a2d9d3233dffecb2",
            "305a1205b7e9476aa63e6eda9b813577",
            "c07dade3188b4b24bcad16344e5980cd",
            "349f55e8f9e74ccba21888759b7e8d12",
            "fda307e836a24e1da909e9b1758aa6fa",
            "403697faca024dec801c979dd446fc8d",
            "8c2f45e105bc4855a5be8a75bcef1cb0",
            "a7df332b358c442998875cd348d12341",
            "35953623e91b442087c30b9b9e3d5aaa",
            "4764b8dd6c494cbea56af6a63bd1dab1",
            "4592b958e99c4a2588ffa3a25fc9ab8c",
            "0eab182a1b4e4e0494a0b1534e5e91ec"
          ]
        },
        "id": "S4Eqz77BUogR",
        "outputId": "bb4d29c8-915a-40db-9ae4-245a75af7c39"
      },
      "outputs": [
        {
          "output_type": "display_data",
          "data": {
            "text/plain": [
              "Downloading (…)rocessor_config.json:   0%|          | 0.00/160 [00:00<?, ?B/s]"
            ],
            "application/vnd.jupyter.widget-view+json": {
              "version_major": 2,
              "version_minor": 0,
              "model_id": "7b0f66ee87c84d178384c0402867d8c9"
            }
          },
          "metadata": {}
        },
        {
          "output_type": "display_data",
          "data": {
            "text/plain": [
              "Downloading (…)lve/main/config.json:   0%|          | 0.00/502 [00:00<?, ?B/s]"
            ],
            "application/vnd.jupyter.widget-view+json": {
              "version_major": 2,
              "version_minor": 0,
              "model_id": "1b123f2249c244988f87b6a7c529fa03"
            }
          },
          "metadata": {}
        },
        {
          "output_type": "stream",
          "name": "stderr",
          "text": [
            "/usr/local/lib/python3.10/dist-packages/transformers/models/vit/feature_extraction_vit.py:28: FutureWarning: The class ViTFeatureExtractor is deprecated and will be removed in version 5 of Transformers. Please use ViTImageProcessor instead.\n",
            "  warnings.warn(\n"
          ]
        },
        {
          "output_type": "display_data",
          "data": {
            "text/plain": [
              "Downloading (…)lve/main/config.json:   0%|          | 0.00/665 [00:00<?, ?B/s]"
            ],
            "application/vnd.jupyter.widget-view+json": {
              "version_major": 2,
              "version_minor": 0,
              "model_id": "0753104aac05427bae391d2487564d36"
            }
          },
          "metadata": {}
        },
        {
          "output_type": "display_data",
          "data": {
            "text/plain": [
              "Downloading (…)olve/main/vocab.json:   0%|          | 0.00/1.04M [00:00<?, ?B/s]"
            ],
            "application/vnd.jupyter.widget-view+json": {
              "version_major": 2,
              "version_minor": 0,
              "model_id": "8d9885c17e11406ea456ae08463b55ca"
            }
          },
          "metadata": {}
        },
        {
          "output_type": "display_data",
          "data": {
            "text/plain": [
              "Downloading (…)olve/main/merges.txt:   0%|          | 0.00/456k [00:00<?, ?B/s]"
            ],
            "application/vnd.jupyter.widget-view+json": {
              "version_major": 2,
              "version_minor": 0,
              "model_id": "ffb88aa761574b08b34c66456e47016d"
            }
          },
          "metadata": {}
        },
        {
          "output_type": "display_data",
          "data": {
            "text/plain": [
              "Downloading (…)/main/tokenizer.json:   0%|          | 0.00/1.36M [00:00<?, ?B/s]"
            ],
            "application/vnd.jupyter.widget-view+json": {
              "version_major": 2,
              "version_minor": 0,
              "model_id": "305a1205b7e9476aa63e6eda9b813577"
            }
          },
          "metadata": {}
        }
      ],
      "source": [
        "from transformers import AutoFeatureExtractor, AutoTokenizer\n",
        "\n",
        "encoder_checkpoint = \"google/vit-base-patch16-224-in21k\"\n",
        "decoder_checkpoint = \"gpt2\"\n",
        "\n",
        "feature_extractor = AutoFeatureExtractor.from_pretrained(encoder_checkpoint)\n",
        "tokenizer = AutoTokenizer.from_pretrained(decoder_checkpoint)"
      ]
    },
    {
      "cell_type": "code",
      "execution_count": 15,
      "metadata": {
        "id": "C_7MlDXkUz62"
      },
      "outputs": [],
      "source": [
        "tokenizer.pad_token = tokenizer.eos_token"
      ]
    },
    {
      "cell_type": "markdown",
      "source": [
        "#### Let’s take an example image and a caption to see applying feature_extractor and tokenizer"
      ],
      "metadata": {
        "id": "wEP5pXPRCB4i"
      }
    },
    {
      "cell_type": "code",
      "execution_count": 16,
      "metadata": {
        "id": "Y5MhVJE7U5i0"
      },
      "outputs": [],
      "source": [
        "from PIL import Image\n",
        "\n",
        "# maximum length for the captions\n",
        "max_length = 128\n",
        "sample = df.iloc[0]\n",
        "\n",
        "# sample image\n",
        "image = Image.open(sample['imgs']).convert('RGB')\n",
        "# sample caption\n",
        "caption = sample['captions']\n",
        "\n",
        "# apply feature extractor on the sample image\n",
        "inputs = feature_extractor(images=image, return_tensors='pt')\n",
        "# apply tokenizer\n",
        "outputs = tokenizer(\n",
        "            caption, \n",
        "            max_length=max_length, \n",
        "            truncation=True, \n",
        "            padding='max_length',\n",
        "            return_tensors='pt',\n",
        "        )"
      ]
    },
    {
      "cell_type": "markdown",
      "source": [
        "#### Now, let’s write a normal dataset loading class as we usually do in pytorch. We will pass the dataframe we just created and extract the images and captions. Then for each each image and caption we apply the feature_extractor and tokenizer."
      ],
      "metadata": {
        "id": "9yNpZI6ACWhZ"
      }
    },
    {
      "cell_type": "code",
      "execution_count": 17,
      "metadata": {
        "id": "ehg0ChbOU6Sz"
      },
      "outputs": [],
      "source": [
        "from torch.utils.data import Dataset\n",
        "\n",
        "class LoadDataset(Dataset):\n",
        "    def __init__(self, df):\n",
        "        self.images = df['imgs'].values\n",
        "        self.captions = df['captions'].values\n",
        "    \n",
        "    def __getitem__(self, idx):\n",
        "        # everything to return is stored inside this dict\n",
        "        inputs = dict()\n",
        "\n",
        "        # load the image and apply feature_extractor\n",
        "        image_path = str(self.images[idx])\n",
        "        image = Image.open(image_path).convert(\"RGB\")\n",
        "        image = feature_extractor(images=image, return_tensors='pt')\n",
        "\n",
        "        # load the caption and apply tokenizer\n",
        "        caption = self.captions[idx]\n",
        "        labels = tokenizer(\n",
        "            caption, \n",
        "            max_length=max_length, \n",
        "            truncation=True, \n",
        "            padding='max_length',\n",
        "            return_tensors='pt',\n",
        "        )['input_ids'][0]\n",
        "        \n",
        "        # store the inputs(pixel_values) and labels(input_ids) in the dict we created\n",
        "        inputs['pixel_values'] = image['pixel_values'].squeeze()   \n",
        "        inputs['labels'] = labels\n",
        "        return inputs\n",
        "    \n",
        "    def __len__(self):\n",
        "        return len(self.images)\n"
      ]
    },
    {
      "cell_type": "markdown",
      "source": [
        "#### Let’s split our dataframe into training and testing set"
      ],
      "metadata": {
        "id": "zb6MmbXsCe6Z"
      }
    },
    {
      "cell_type": "code",
      "execution_count": 18,
      "metadata": {
        "id": "E6TZC3wfVBN0"
      },
      "outputs": [],
      "source": [
        "from sklearn.model_selection import train_test_split\n",
        "\n",
        "train_df, test_df = train_test_split(df, test_size=0.2, shuffle=True, random_state=42)"
      ]
    },
    {
      "cell_type": "markdown",
      "source": [
        "#### Now we will load each image and caption of our dataset using the LoadDataset class"
      ],
      "metadata": {
        "id": "W80VdHY1Ck4S"
      }
    },
    {
      "cell_type": "code",
      "execution_count": 19,
      "metadata": {
        "id": "I_rDYtt2VEvT"
      },
      "outputs": [],
      "source": [
        "train_ds = LoadDataset(train_df)\n",
        "test_ds = LoadDataset(test_df)"
      ]
    },
    {
      "cell_type": "code",
      "execution_count": 20,
      "metadata": {
        "colab": {
          "base_uri": "https://localhost:8080/"
        },
        "id": "JvPRDGQH6eaD",
        "outputId": "2eed7528-0b2b-4fe8-e314-cdb06155b695"
      },
      "outputs": [
        {
          "output_type": "execute_result",
          "data": {
            "text/plain": [
              "['__add__',\n",
              " '__annotations__',\n",
              " '__class__',\n",
              " '__class_getitem__',\n",
              " '__delattr__',\n",
              " '__dict__',\n",
              " '__dir__',\n",
              " '__doc__',\n",
              " '__eq__',\n",
              " '__format__',\n",
              " '__ge__',\n",
              " '__getattribute__',\n",
              " '__getitem__',\n",
              " '__gt__',\n",
              " '__hash__',\n",
              " '__init__',\n",
              " '__init_subclass__',\n",
              " '__le__',\n",
              " '__len__',\n",
              " '__lt__',\n",
              " '__module__',\n",
              " '__ne__',\n",
              " '__new__',\n",
              " '__orig_bases__',\n",
              " '__parameters__',\n",
              " '__reduce__',\n",
              " '__reduce_ex__',\n",
              " '__repr__',\n",
              " '__setattr__',\n",
              " '__sizeof__',\n",
              " '__slots__',\n",
              " '__str__',\n",
              " '__subclasshook__',\n",
              " '__weakref__',\n",
              " '_is_protocol',\n",
              " 'captions',\n",
              " 'images']"
            ]
          },
          "metadata": {},
          "execution_count": 20
        }
      ],
      "source": [
        "dir(test_ds)"
      ]
    },
    {
      "cell_type": "code",
      "execution_count": 21,
      "metadata": {
        "colab": {
          "base_uri": "https://localhost:8080/"
        },
        "id": "5BCHiNDE7q-N",
        "outputId": "00c62905-472e-476c-81a8-887983eb8645"
      },
      "outputs": [
        {
          "output_type": "execute_result",
          "data": {
            "text/plain": [
              "array([PosixPath('/content/flikr/images/3139895886_5a6d495b13.jpg'),\n",
              "       PosixPath('/content/flikr/images/3133825703_359a0c414d.jpg'),\n",
              "       PosixPath('/content/flikr/images/244910177_7c4ec3f65b.jpg'), ...,\n",
              "       PosixPath('/content/flikr/images/3198247669_7493af04a7.jpg'),\n",
              "       PosixPath('/content/flikr/images/253762507_9c3356c2f6.jpg'),\n",
              "       PosixPath('/content/flikr/images/3547704737_57d42d5d9d.jpg')],\n",
              "      dtype=object)"
            ]
          },
          "metadata": {},
          "execution_count": 21
        }
      ],
      "source": [
        "test_ds.images"
      ]
    },
    {
      "cell_type": "code",
      "execution_count": 22,
      "metadata": {
        "colab": {
          "base_uri": "https://localhost:8080/"
        },
        "id": "djDDjiy48JiE",
        "outputId": "1f5ca716-cba1-430a-f292-88c61a1299bf"
      },
      "outputs": [
        {
          "output_type": "execute_result",
          "data": {
            "text/plain": [
              "PosixPath('/content/flikr/images/3676561090_9828a9f6d0.jpg')"
            ]
          },
          "metadata": {},
          "execution_count": 22
        }
      ],
      "source": [
        "test_ds.images[10]"
      ]
    },
    {
      "cell_type": "code",
      "execution_count": 23,
      "metadata": {
        "colab": {
          "base_uri": "https://localhost:8080/"
        },
        "id": "MLPwkbHP77nc",
        "outputId": "a6544116-99af-463e-a576-44ca2936681c"
      },
      "outputs": [
        {
          "output_type": "execute_result",
          "data": {
            "text/plain": [
              "{'pixel_values': tensor([[[-0.2471, -0.4039, -0.2863,  ..., -0.4980, -0.5765, -0.5294],\n",
              "          [-0.0980, -0.2706, -0.1686,  ..., -0.5216, -0.5059, -0.3255],\n",
              "          [-0.1608, -0.2627, -0.1765,  ..., -0.4667, -0.4510, -0.2157],\n",
              "          ...,\n",
              "          [-0.5843, -0.6235, -0.6392,  ..., -0.4196, -0.4745, -0.5451],\n",
              "          [-0.5451, -0.5608, -0.6314,  ..., -0.3961, -0.4745, -0.5765],\n",
              "          [-0.4353, -0.5216, -0.5765,  ..., -0.4039, -0.4510, -0.6078]],\n",
              " \n",
              "         [[-0.1608, -0.2627, -0.1529,  ..., -0.3804, -0.4667, -0.4196],\n",
              "          [-0.0118, -0.1529, -0.0588,  ..., -0.4196, -0.4196, -0.2706],\n",
              "          [-0.0824, -0.1608, -0.0588,  ..., -0.4039, -0.3882, -0.2000],\n",
              "          ...,\n",
              "          [-0.4980, -0.5608, -0.6392,  ..., -0.3961, -0.3804, -0.4431],\n",
              "          [-0.5137, -0.5216, -0.6314,  ..., -0.3490, -0.4118, -0.4824],\n",
              "          [-0.4431, -0.5216, -0.5922,  ..., -0.3725, -0.4196, -0.5294]],\n",
              " \n",
              "         [[-0.2784, -0.4039, -0.3255,  ..., -0.5294, -0.5843, -0.5294],\n",
              "          [-0.1451, -0.3333, -0.2314,  ..., -0.5765, -0.5608, -0.3882],\n",
              "          [-0.2000, -0.2784, -0.1922,  ..., -0.5608, -0.5451, -0.3098],\n",
              "          ...,\n",
              "          [-0.5451, -0.5608, -0.5843,  ..., -0.3961, -0.4588, -0.5608],\n",
              "          [-0.5294, -0.5059, -0.5765,  ..., -0.3255, -0.4667, -0.6078],\n",
              "          [-0.4039, -0.4588, -0.5216,  ..., -0.3020, -0.4510, -0.6627]]]),\n",
              " 'labels': tensor([   32,  1402,  2330,  3290, 14088,   625,   319,   262,  8701,   764,\n",
              "         50256, 50256, 50256, 50256, 50256, 50256, 50256, 50256, 50256, 50256,\n",
              "         50256, 50256, 50256, 50256, 50256, 50256, 50256, 50256, 50256, 50256,\n",
              "         50256, 50256, 50256, 50256, 50256, 50256, 50256, 50256, 50256, 50256,\n",
              "         50256, 50256, 50256, 50256, 50256, 50256, 50256, 50256, 50256, 50256,\n",
              "         50256, 50256, 50256, 50256, 50256, 50256, 50256, 50256, 50256, 50256,\n",
              "         50256, 50256, 50256, 50256, 50256, 50256, 50256, 50256, 50256, 50256,\n",
              "         50256, 50256, 50256, 50256, 50256, 50256, 50256, 50256, 50256, 50256,\n",
              "         50256, 50256, 50256, 50256, 50256, 50256, 50256, 50256, 50256, 50256,\n",
              "         50256, 50256, 50256, 50256, 50256, 50256, 50256, 50256, 50256, 50256,\n",
              "         50256, 50256, 50256, 50256, 50256, 50256, 50256, 50256, 50256, 50256,\n",
              "         50256, 50256, 50256, 50256, 50256, 50256, 50256, 50256, 50256, 50256,\n",
              "         50256, 50256, 50256, 50256, 50256, 50256, 50256, 50256])}"
            ]
          },
          "metadata": {},
          "execution_count": 23
        }
      ],
      "source": [
        "test_ds[10]"
      ]
    },
    {
      "cell_type": "code",
      "execution_count": null,
      "metadata": {
        "colab": {
          "base_uri": "https://localhost:8080/"
        },
        "id": "8YwXVnZG8TWX",
        "outputId": "afffab53-99df-4b0c-dff8-b0ae3a60d9b6"
      },
      "outputs": [
        {
          "output_type": "execute_result",
          "data": {
            "text/plain": [
              "PosixPath('/content/flikr/images/2314722788_6262c3aa40.jpg')"
            ]
          },
          "metadata": {},
          "execution_count": 24
        }
      ],
      "source": [
        "test_ds.images[65]"
      ]
    },
    {
      "cell_type": "markdown",
      "source": [
        "# Fine Tuning the Model (Training)\n",
        "#### Now let's the pretrained model VisionEncoderDecoderModel where we can pass the name of the vision model and the language model we need for the encoder and the decoder respectively"
      ],
      "metadata": {
        "id": "nUo9I-NlC5TB"
      }
    },
    {
      "cell_type": "code",
      "execution_count": 24,
      "metadata": {
        "colab": {
          "base_uri": "https://localhost:8080/",
          "height": 168,
          "referenced_widgets": [
            "568b26741a7d4bb09380a95a98028d55",
            "f57864ce1b754e57a2c6c26172ddf767",
            "3c0171e55ff84e24aad7285b5a9d7473",
            "b59734d34b9e42cfbdd2145852489179",
            "1fb3751269c84f30b8fe2fa07172f1d6",
            "a0c756ba50e34ff88d5e55571cc0df8d",
            "084d3a04be584cd1a43abef9a74f417a",
            "803f00e420ef4c5c8863b6a13d9a5324",
            "8d3847e6e68a4db995ce5246017930e9",
            "bc1ddebca68243168a20dd0a2809ae8f",
            "c6010580d0ba40019613c42efad90b87",
            "d4f664e5f4bd4f9db088fe6afb91a099",
            "ee5d968c4d5f4f4996a586f795753a15",
            "e25f94736a2443eb9ab32c2869e0e36d",
            "910af3aa17c44882b319be166b9ddb81",
            "573b5cffeb594362b8a5f3f68873ca76",
            "7b454caef70743738b8b03c6857f11ab",
            "032b466aae8b438f94713ee6c8ef37be",
            "15f62fed9bcc463dbdd73123a7813acb",
            "b263727b65d540dfb75f58bc1efb975d",
            "b63f40b2b17a45fcbc01b79a8d05adb4",
            "a804dfb1f48e4770ba9ce747e50d30ae",
            "abfbc86ca0f8406690e7e3e3e17c2f4c",
            "d5f0421c270f4eedbf14304366035001",
            "45e76b968bf84e47a4cf4cf67f52da4c",
            "fe92f8a4f3404dd5bf048b86154e38df",
            "4f11e62d8897490594111b02da1fe53f",
            "8f85f861f8a54891a041113600d2cacc",
            "8d49280aa4bd47ac945833988e8c7925",
            "00f8689aeba548f5bc05feb689b93d6b",
            "49f1fd8aeef44e13a22b995a4a3d8bad",
            "76d50f9a911147c990b3be5f2a20c7a5",
            "f67493ab5a794ee48531656c9c44d0ed"
          ]
        },
        "id": "KUNqE6IYVJse",
        "outputId": "ec2a578a-7ca6-4636-9a29-5d09c4f12c12"
      },
      "outputs": [
        {
          "output_type": "display_data",
          "data": {
            "text/plain": [
              "Downloading pytorch_model.bin:   0%|          | 0.00/346M [00:00<?, ?B/s]"
            ],
            "application/vnd.jupyter.widget-view+json": {
              "version_major": 2,
              "version_minor": 0,
              "model_id": "568b26741a7d4bb09380a95a98028d55"
            }
          },
          "metadata": {}
        },
        {
          "output_type": "display_data",
          "data": {
            "text/plain": [
              "Downloading pytorch_model.bin:   0%|          | 0.00/548M [00:00<?, ?B/s]"
            ],
            "application/vnd.jupyter.widget-view+json": {
              "version_major": 2,
              "version_minor": 0,
              "model_id": "d4f664e5f4bd4f9db088fe6afb91a099"
            }
          },
          "metadata": {}
        },
        {
          "output_type": "stream",
          "name": "stderr",
          "text": [
            "Some weights of GPT2LMHeadModel were not initialized from the model checkpoint at gpt2 and are newly initialized: ['h.10.crossattention.c_attn.weight', 'h.4.crossattention.masked_bias', 'h.3.crossattention.bias', 'h.9.ln_cross_attn.weight', 'h.10.crossattention.masked_bias', 'h.3.ln_cross_attn.weight', 'h.11.crossattention.q_attn.weight', 'h.6.crossattention.c_proj.weight', 'h.7.crossattention.c_proj.weight', 'h.0.crossattention.c_proj.bias', 'h.7.crossattention.masked_bias', 'h.1.crossattention.bias', 'h.2.crossattention.q_attn.weight', 'h.0.crossattention.q_attn.weight', 'h.7.ln_cross_attn.weight', 'h.2.ln_cross_attn.weight', 'h.0.crossattention.masked_bias', 'h.1.crossattention.masked_bias', 'h.5.crossattention.c_attn.weight', 'h.7.crossattention.c_proj.bias', 'h.10.crossattention.c_proj.bias', 'h.1.ln_cross_attn.weight', 'h.5.crossattention.masked_bias', 'h.10.crossattention.c_proj.weight', 'h.1.crossattention.c_attn.weight', 'h.9.crossattention.bias', 'h.8.crossattention.c_attn.weight', 'h.0.ln_cross_attn.weight', 'h.5.ln_cross_attn.weight', 'h.11.ln_cross_attn.weight', 'h.11.crossattention.masked_bias', 'h.7.crossattention.q_attn.weight', 'h.5.crossattention.q_attn.weight', 'h.0.crossattention.c_attn.weight', 'h.2.crossattention.c_attn.weight', 'h.4.ln_cross_attn.weight', 'h.8.crossattention.masked_bias', 'h.9.crossattention.masked_bias', 'h.8.crossattention.bias', 'h.6.crossattention.c_proj.bias', 'h.8.crossattention.c_proj.weight', 'h.4.crossattention.q_attn.weight', 'h.1.crossattention.c_proj.bias', 'h.11.crossattention.c_attn.weight', 'h.9.crossattention.c_proj.bias', 'h.2.crossattention.c_proj.bias', 'h.5.crossattention.bias', 'h.10.ln_cross_attn.weight', 'h.6.crossattention.bias', 'h.7.crossattention.c_attn.weight', 'h.11.crossattention.c_proj.weight', 'h.5.crossattention.c_proj.bias', 'h.2.crossattention.bias', 'h.9.crossattention.c_proj.weight', 'h.5.crossattention.c_proj.weight', 'h.8.ln_cross_attn.weight', 'h.9.crossattention.q_attn.weight', 'h.10.crossattention.bias', 'h.3.crossattention.c_proj.bias', 'h.11.crossattention.c_proj.bias', 'h.6.crossattention.q_attn.weight', 'h.2.crossattention.c_proj.weight', 'h.7.crossattention.bias', 'h.9.crossattention.c_attn.weight', 'h.6.crossattention.c_attn.weight', 'h.3.crossattention.q_attn.weight', 'h.3.crossattention.c_attn.weight', 'h.10.crossattention.q_attn.weight', 'h.4.crossattention.bias', 'h.2.crossattention.masked_bias', 'h.0.crossattention.bias', 'h.4.crossattention.c_proj.bias', 'h.4.crossattention.c_attn.weight', 'h.3.crossattention.c_proj.weight', 'h.11.crossattention.bias', 'h.3.crossattention.masked_bias', 'h.8.crossattention.c_proj.bias', 'h.6.crossattention.masked_bias', 'h.0.crossattention.c_proj.weight', 'h.1.crossattention.c_proj.weight', 'h.1.crossattention.q_attn.weight', 'h.4.crossattention.c_proj.weight', 'h.6.ln_cross_attn.weight', 'h.8.crossattention.q_attn.weight']\n",
            "You should probably TRAIN this model on a down-stream task to be able to use it for predictions and inference.\n"
          ]
        },
        {
          "output_type": "display_data",
          "data": {
            "text/plain": [
              "Downloading (…)neration_config.json:   0%|          | 0.00/124 [00:00<?, ?B/s]"
            ],
            "application/vnd.jupyter.widget-view+json": {
              "version_major": 2,
              "version_minor": 0,
              "model_id": "abfbc86ca0f8406690e7e3e3e17c2f4c"
            }
          },
          "metadata": {}
        }
      ],
      "source": [
        "from transformers import VisionEncoderDecoderModel\n",
        "\n",
        "model = VisionEncoderDecoderModel.from_encoder_decoder_pretrained(\n",
        "    encoder_checkpoint, \n",
        "    decoder_checkpoint\n",
        ")"
      ]
    },
    {
      "cell_type": "markdown",
      "source": [
        "#### Set a value for decoder_start_token_id and pad_token_id in the model config"
      ],
      "metadata": {
        "id": "qPF3S45MDYZM"
      }
    },
    {
      "cell_type": "code",
      "execution_count": 25,
      "metadata": {
        "id": "D8Tp3G5wVMqT"
      },
      "outputs": [],
      "source": [
        "model.config.decoder_start_token_id = tokenizer.bos_token_id\n",
        "model.config.pad_token_id = tokenizer.pad_token_id"
      ]
    },
    {
      "cell_type": "markdown",
      "source": [
        "#### Inorder to get good and meaningful captions from the model, we should use beam search instead of greedy search while generating the caption. For that, we just have to set a value greater than 1 for num_beams in model config"
      ],
      "metadata": {
        "id": "BlvX-PcbDw78"
      }
    },
    {
      "cell_type": "code",
      "execution_count": 26,
      "metadata": {
        "id": "2XrDcpe3VTu9"
      },
      "outputs": [],
      "source": [
        "# set number of beams for beam search to 4\n",
        "num_beams = 4\n",
        "model.config.num_beams = num_beams"
      ]
    },
    {
      "cell_type": "code",
      "execution_count": 27,
      "metadata": {
        "colab": {
          "base_uri": "https://localhost:8080/"
        },
        "id": "3LsIh4S2VZT1",
        "outputId": "0745dccd-1232-4e8a-f13d-6a972eb84f59"
      },
      "outputs": [
        {
          "output_type": "stream",
          "name": "stdout",
          "text": [
            "Looking in indexes: https://pypi.org/simple, https://us-python.pkg.dev/colab-wheels/public/simple/\n",
            "Requirement already satisfied: transformers in /usr/local/lib/python3.10/dist-packages (4.29.2)\n",
            "Collecting accelerate\n",
            "  Downloading accelerate-0.19.0-py3-none-any.whl (219 kB)\n",
            "\u001b[2K     \u001b[90m━━━━━━━━━━━━━━━━━━━━━━━━━━━━━━━━━━━━━━\u001b[0m \u001b[32m219.1/219.1 kB\u001b[0m \u001b[31m20.7 MB/s\u001b[0m eta \u001b[36m0:00:00\u001b[0m\n",
            "\u001b[?25hRequirement already satisfied: filelock in /usr/local/lib/python3.10/dist-packages (from transformers) (3.12.0)\n",
            "Requirement already satisfied: huggingface-hub<1.0,>=0.14.1 in /usr/local/lib/python3.10/dist-packages (from transformers) (0.14.1)\n",
            "Requirement already satisfied: numpy>=1.17 in /usr/local/lib/python3.10/dist-packages (from transformers) (1.22.4)\n",
            "Requirement already satisfied: packaging>=20.0 in /usr/local/lib/python3.10/dist-packages (from transformers) (23.1)\n",
            "Requirement already satisfied: pyyaml>=5.1 in /usr/local/lib/python3.10/dist-packages (from transformers) (6.0)\n",
            "Requirement already satisfied: regex!=2019.12.17 in /usr/local/lib/python3.10/dist-packages (from transformers) (2022.10.31)\n",
            "Requirement already satisfied: requests in /usr/local/lib/python3.10/dist-packages (from transformers) (2.27.1)\n",
            "Requirement already satisfied: tokenizers!=0.11.3,<0.14,>=0.11.1 in /usr/local/lib/python3.10/dist-packages (from transformers) (0.13.3)\n",
            "Requirement already satisfied: tqdm>=4.27 in /usr/local/lib/python3.10/dist-packages (from transformers) (4.65.0)\n",
            "Requirement already satisfied: psutil in /usr/local/lib/python3.10/dist-packages (from accelerate) (5.9.5)\n",
            "Requirement already satisfied: torch>=1.6.0 in /usr/local/lib/python3.10/dist-packages (from accelerate) (2.0.1+cu118)\n",
            "Requirement already satisfied: fsspec in /usr/local/lib/python3.10/dist-packages (from huggingface-hub<1.0,>=0.14.1->transformers) (2023.4.0)\n",
            "Requirement already satisfied: typing-extensions>=3.7.4.3 in /usr/local/lib/python3.10/dist-packages (from huggingface-hub<1.0,>=0.14.1->transformers) (4.5.0)\n",
            "Requirement already satisfied: sympy in /usr/local/lib/python3.10/dist-packages (from torch>=1.6.0->accelerate) (1.11.1)\n",
            "Requirement already satisfied: networkx in /usr/local/lib/python3.10/dist-packages (from torch>=1.6.0->accelerate) (3.1)\n",
            "Requirement already satisfied: jinja2 in /usr/local/lib/python3.10/dist-packages (from torch>=1.6.0->accelerate) (3.1.2)\n",
            "Requirement already satisfied: triton==2.0.0 in /usr/local/lib/python3.10/dist-packages (from torch>=1.6.0->accelerate) (2.0.0)\n",
            "Requirement already satisfied: cmake in /usr/local/lib/python3.10/dist-packages (from triton==2.0.0->torch>=1.6.0->accelerate) (3.25.2)\n",
            "Requirement already satisfied: lit in /usr/local/lib/python3.10/dist-packages (from triton==2.0.0->torch>=1.6.0->accelerate) (16.0.5)\n",
            "Requirement already satisfied: urllib3<1.27,>=1.21.1 in /usr/local/lib/python3.10/dist-packages (from requests->transformers) (1.26.15)\n",
            "Requirement already satisfied: certifi>=2017.4.17 in /usr/local/lib/python3.10/dist-packages (from requests->transformers) (2022.12.7)\n",
            "Requirement already satisfied: charset-normalizer~=2.0.0 in /usr/local/lib/python3.10/dist-packages (from requests->transformers) (2.0.12)\n",
            "Requirement already satisfied: idna<4,>=2.5 in /usr/local/lib/python3.10/dist-packages (from requests->transformers) (3.4)\n",
            "Requirement already satisfied: MarkupSafe>=2.0 in /usr/local/lib/python3.10/dist-packages (from jinja2->torch>=1.6.0->accelerate) (2.1.2)\n",
            "Requirement already satisfied: mpmath>=0.19 in /usr/local/lib/python3.10/dist-packages (from sympy->torch>=1.6.0->accelerate) (1.3.0)\n",
            "Installing collected packages: accelerate\n",
            "Successfully installed accelerate-0.19.0\n"
          ]
        }
      ],
      "source": [
        "!pip install transformers accelerate"
      ]
    },
    {
      "cell_type": "markdown",
      "source": [
        "#### We need to pass some arguments to control the training of our model."
      ],
      "metadata": {
        "id": "n4OUe9EyEAF5"
      }
    },
    {
      "cell_type": "code",
      "execution_count": 28,
      "metadata": {
        "id": "kfvG0cJ3VWMT"
      },
      "outputs": [],
      "source": [
        "from transformers import Seq2SeqTrainingArguments\n",
        "\n",
        "# batch size\n",
        "bs = 8\n",
        "\n",
        "training_args = Seq2SeqTrainingArguments(\n",
        "    output_dir=\"image-caption-generator\", # name of the directory to store training outputs\n",
        "    evaluation_strategy=\"epoch\",          # evaluate after each epoch\n",
        "    per_device_train_batch_size=bs,       # batch size during training\n",
        "    per_device_eval_batch_size=bs,        # batch size during evaluation\n",
        "    learning_rate=5e-5,\n",
        "    weight_decay=0.01,                    # weight decay parameter for AdamW optimizer\n",
        "    num_train_epochs=5,                   # number of epochs to train\n",
        "    save_strategy='epoch',                # save checkpoints after each epoch\n",
        "    report_to='none',                     # prevent reporting to wandb, mlflow...\n",
        ")"
      ]
    },
    {
      "cell_type": "markdown",
      "source": [
        "#### We will use the Seq2SeqTrainer from transformers library.\n",
        "#### Now let’s create the trainer and start the training."
      ],
      "metadata": {
        "id": "KOBfRAVLEMIL"
      }
    },
    {
      "cell_type": "code",
      "execution_count": 29,
      "metadata": {
        "colab": {
          "base_uri": "https://localhost:8080/",
          "height": 321
        },
        "id": "tVi7m9-PVgTV",
        "outputId": "06732450-8dbf-4069-fd5a-9a23dbd9eea6"
      },
      "outputs": [
        {
          "output_type": "stream",
          "name": "stderr",
          "text": [
            "/usr/local/lib/python3.10/dist-packages/transformers/optimization.py:407: FutureWarning: This implementation of AdamW is deprecated and will be removed in a future version. Use the PyTorch implementation torch.optim.AdamW instead, or set `no_deprecation_warning=True` to disable this warning\n",
            "  warnings.warn(\n"
          ]
        },
        {
          "output_type": "display_data",
          "data": {
            "text/plain": [
              "<IPython.core.display.HTML object>"
            ],
            "text/html": [
              "\n",
              "    <div>\n",
              "      \n",
              "      <progress value='4045' max='4045' style='width:300px; height:20px; vertical-align: middle;'></progress>\n",
              "      [4045/4045 1:01:20, Epoch 5/5]\n",
              "    </div>\n",
              "    <table border=\"1\" class=\"dataframe\">\n",
              "  <thead>\n",
              " <tr style=\"text-align: left;\">\n",
              "      <th>Epoch</th>\n",
              "      <th>Training Loss</th>\n",
              "      <th>Validation Loss</th>\n",
              "    </tr>\n",
              "  </thead>\n",
              "  <tbody>\n",
              "    <tr>\n",
              "      <td>1</td>\n",
              "      <td>0.335300</td>\n",
              "      <td>0.255929</td>\n",
              "    </tr>\n",
              "    <tr>\n",
              "      <td>2</td>\n",
              "      <td>0.235200</td>\n",
              "      <td>0.247374</td>\n",
              "    </tr>\n",
              "    <tr>\n",
              "      <td>3</td>\n",
              "      <td>0.212400</td>\n",
              "      <td>0.247474</td>\n",
              "    </tr>\n",
              "    <tr>\n",
              "      <td>4</td>\n",
              "      <td>0.184300</td>\n",
              "      <td>0.252281</td>\n",
              "    </tr>\n",
              "    <tr>\n",
              "      <td>5</td>\n",
              "      <td>0.165400</td>\n",
              "      <td>0.258532</td>\n",
              "    </tr>\n",
              "  </tbody>\n",
              "</table><p>"
            ]
          },
          "metadata": {}
        },
        {
          "output_type": "execute_result",
          "data": {
            "text/plain": [
              "TrainOutput(global_step=4045, training_loss=0.22018022867304138, metrics={'train_runtime': 3690.0642, 'train_samples_per_second': 8.769, 'train_steps_per_second': 1.096, 'total_flos': 5.839811516647342e+18, 'train_loss': 0.22018022867304138, 'epoch': 5.0})"
            ]
          },
          "metadata": {},
          "execution_count": 29
        }
      ],
      "source": [
        "from transformers import Seq2SeqTrainer, default_data_collator\n",
        "\n",
        "trainer = Seq2SeqTrainer(\n",
        "    model=model,\n",
        "    tokenizer=feature_extractor,\n",
        "    data_collator=default_data_collator,\n",
        "    train_dataset=train_ds,\n",
        "    eval_dataset=test_ds,\n",
        "    args=training_args,\n",
        ")\n",
        "\n",
        "trainer.train()"
      ]
    },
    {
      "cell_type": "markdown",
      "source": [
        "# Testing the model"
      ],
      "metadata": {
        "id": "tn1K8_XWGEw5"
      }
    },
    {
      "cell_type": "code",
      "source": [
        "import torch"
      ],
      "metadata": {
        "id": "XKKYHXsYNK6Z"
      },
      "execution_count": 30,
      "outputs": []
    },
    {
      "cell_type": "code",
      "source": [
        "model.eval()"
      ],
      "metadata": {
        "colab": {
          "base_uri": "https://localhost:8080/"
        },
        "id": "j5H3U776NZsS",
        "outputId": "5ac8831d-245b-4832-f71f-3ef89062811b"
      },
      "execution_count": 31,
      "outputs": [
        {
          "output_type": "execute_result",
          "data": {
            "text/plain": [
              "VisionEncoderDecoderModel(\n",
              "  (encoder): ViTModel(\n",
              "    (embeddings): ViTEmbeddings(\n",
              "      (patch_embeddings): ViTPatchEmbeddings(\n",
              "        (projection): Conv2d(3, 768, kernel_size=(16, 16), stride=(16, 16))\n",
              "      )\n",
              "      (dropout): Dropout(p=0.0, inplace=False)\n",
              "    )\n",
              "    (encoder): ViTEncoder(\n",
              "      (layer): ModuleList(\n",
              "        (0-11): 12 x ViTLayer(\n",
              "          (attention): ViTAttention(\n",
              "            (attention): ViTSelfAttention(\n",
              "              (query): Linear(in_features=768, out_features=768, bias=True)\n",
              "              (key): Linear(in_features=768, out_features=768, bias=True)\n",
              "              (value): Linear(in_features=768, out_features=768, bias=True)\n",
              "              (dropout): Dropout(p=0.0, inplace=False)\n",
              "            )\n",
              "            (output): ViTSelfOutput(\n",
              "              (dense): Linear(in_features=768, out_features=768, bias=True)\n",
              "              (dropout): Dropout(p=0.0, inplace=False)\n",
              "            )\n",
              "          )\n",
              "          (intermediate): ViTIntermediate(\n",
              "            (dense): Linear(in_features=768, out_features=3072, bias=True)\n",
              "            (intermediate_act_fn): GELUActivation()\n",
              "          )\n",
              "          (output): ViTOutput(\n",
              "            (dense): Linear(in_features=3072, out_features=768, bias=True)\n",
              "            (dropout): Dropout(p=0.0, inplace=False)\n",
              "          )\n",
              "          (layernorm_before): LayerNorm((768,), eps=1e-12, elementwise_affine=True)\n",
              "          (layernorm_after): LayerNorm((768,), eps=1e-12, elementwise_affine=True)\n",
              "        )\n",
              "      )\n",
              "    )\n",
              "    (layernorm): LayerNorm((768,), eps=1e-12, elementwise_affine=True)\n",
              "    (pooler): ViTPooler(\n",
              "      (dense): Linear(in_features=768, out_features=768, bias=True)\n",
              "      (activation): Tanh()\n",
              "    )\n",
              "  )\n",
              "  (decoder): GPT2LMHeadModel(\n",
              "    (transformer): GPT2Model(\n",
              "      (wte): Embedding(50257, 768)\n",
              "      (wpe): Embedding(1024, 768)\n",
              "      (drop): Dropout(p=0.1, inplace=False)\n",
              "      (h): ModuleList(\n",
              "        (0-11): 12 x GPT2Block(\n",
              "          (ln_1): LayerNorm((768,), eps=1e-05, elementwise_affine=True)\n",
              "          (attn): GPT2Attention(\n",
              "            (c_attn): Conv1D()\n",
              "            (c_proj): Conv1D()\n",
              "            (attn_dropout): Dropout(p=0.1, inplace=False)\n",
              "            (resid_dropout): Dropout(p=0.1, inplace=False)\n",
              "          )\n",
              "          (ln_2): LayerNorm((768,), eps=1e-05, elementwise_affine=True)\n",
              "          (crossattention): GPT2Attention(\n",
              "            (c_attn): Conv1D()\n",
              "            (q_attn): Conv1D()\n",
              "            (c_proj): Conv1D()\n",
              "            (attn_dropout): Dropout(p=0.1, inplace=False)\n",
              "            (resid_dropout): Dropout(p=0.1, inplace=False)\n",
              "          )\n",
              "          (ln_cross_attn): LayerNorm((768,), eps=1e-05, elementwise_affine=True)\n",
              "          (mlp): GPT2MLP(\n",
              "            (c_fc): Conv1D()\n",
              "            (c_proj): Conv1D()\n",
              "            (act): NewGELUActivation()\n",
              "            (dropout): Dropout(p=0.1, inplace=False)\n",
              "          )\n",
              "        )\n",
              "      )\n",
              "      (ln_f): LayerNorm((768,), eps=1e-05, elementwise_affine=True)\n",
              "    )\n",
              "    (lm_head): Linear(in_features=768, out_features=50257, bias=False)\n",
              "  )\n",
              ")"
            ]
          },
          "metadata": {},
          "execution_count": 31
        }
      ]
    },
    {
      "cell_type": "code",
      "source": [
        "import warnings\n",
        "warnings.filterwarnings(\"ignore\")"
      ],
      "metadata": {
        "id": "4tUSs7S3NvjJ"
      },
      "execution_count": 34,
      "outputs": []
    },
    {
      "cell_type": "code",
      "execution_count": 37,
      "metadata": {
        "colab": {
          "base_uri": "https://localhost:8080/"
        },
        "id": "Cwim_38pqVuG",
        "outputId": "bfb4bde9-1fe5-4121-bf74-e65688c1c0d5"
      },
      "outputs": [
        {
          "output_type": "stream",
          "name": "stdout",
          "text": [
            "Image_URL:  /content/flikr/images/3139895886_5a6d495b13.jpg\n",
            "Model_Generated_Caption:  A black and white dog is running through tall grass.\n",
            "Actual_Caption:  A black and white dog is jumping over high yellow grass .\n",
            "\n",
            "\n",
            "Image_URL:  /content/flikr/images/3133825703_359a0c414d.jpg\n",
            "Model_Generated_Caption:  A boy in a red hat and a boy in a blue hat are standing in front of a\n",
            "Actual_Caption:  A father and son looking at a funny looking Santa .\n",
            "\n",
            "\n",
            "Image_URL:  /content/flikr/images/244910177_7c4ec3f65b.jpg\n",
            "Model_Generated_Caption:  A woman in a white t-shirt is talking to a man in a black t-shirt\n",
            "Actual_Caption:  Three women , two with tattoos , walking down the street\n",
            "\n",
            "\n",
            "Image_URL:  /content/flikr/images/2127207912_9298824e66.jpg\n",
            "Model_Generated_Caption:  A man climbs a rock while another watches.\n",
            "Actual_Caption:  Three people make their way through rocky terrain .\n",
            "\n",
            "\n",
            "Image_URL:  /content/flikr/images/1810651611_35aae644fb.jpg\n",
            "Model_Generated_Caption:  A little girl is swinging on a swing set.\n",
            "Actual_Caption:  A little girl in a dress with pink flowers swings on a red-seated swing .\n",
            "\n",
            "\n",
            "Image_URL:  /content/flikr/images/2271468944_3264d29208.jpg\n",
            "Model_Generated_Caption:  A little girl in a yellow bathing suit is holding a small boy in a red suit.\n",
            "Actual_Caption:  a boy pours water on another boy .\n",
            "\n",
            "\n",
            "Image_URL:  /content/flikr/images/1813777902_07d1d4b00c.jpg\n",
            "Model_Generated_Caption:  A boy wearing a blue shirt is standing in front of a tree.\n",
            "Actual_Caption:  A boy with a skeleton on his shirt laughs .\n",
            "\n",
            "\n",
            "Image_URL:  /content/flikr/images/146577646_9e64b8c2dc.jpg\n",
            "Model_Generated_Caption:  A man paddles a kayak down a rapidside.\n",
            "Actual_Caption:  A man is paddling in whitewater rapids .\n",
            "\n",
            "\n",
            "Image_URL:  /content/flikr/images/127490019_7c5c08cb11.jpg\n",
            "Model_Generated_Caption:  A woman in a blue shirt is standing in front of a tree with her hands in the air\n",
            "Actual_Caption:  A woman in shorts and a blue sleeveless shirt leans over a golf club .\n",
            "\n",
            "\n",
            "Image_URL:  /content/flikr/images/3443703471_14845d8850.jpg\n",
            "Model_Generated_Caption:  A dog and a cat are playing on a fence next to a wooded area.\n",
            "Actual_Caption:  A dog leaps over a fence .\n",
            "\n",
            "\n",
            "Image_URL:  /content/flikr/images/3676561090_9828a9f6d0.jpg\n",
            "Model_Generated_Caption:  A small white dog and a large brown dog are playing in a grassy field.\n",
            "Actual_Caption:  A small white dog rolls over on the grass .\n",
            "\n",
            "\n",
            "Image_URL:  /content/flikr/images/3715559023_70c41b31c7.jpg\n",
            "Model_Generated_Caption:  A man and a woman sit on rocks and look out over the water.\n",
            "Actual_Caption:  An onlooker sits on the shore of a pool overlooked by massive waterfalls .\n",
            "\n",
            "\n",
            "Image_URL:  /content/flikr/images/458213442_12c59e61a0.jpg\n",
            "Model_Generated_Caption:  A black and white dog jumps over a hurdle.\n",
            "Actual_Caption:  A black and white dog jumps over a bar in an agility test .\n",
            "\n",
            "\n",
            "Image_URL:  /content/flikr/images/3220161734_77f42734b9.jpg\n",
            "Model_Generated_Caption:  A girl in a red dress is dancing with a group of other girls.\n",
            "Actual_Caption:  A child with a red sash practices martial arts .\n",
            "\n",
            "\n",
            "Image_URL:  /content/flikr/images/3483140026_e14f64fdf5.jpg\n",
            "Model_Generated_Caption:  A man in a red shirt and blue jeans is standing in front of a large rock formation.\n",
            "Actual_Caption:  A man in an orange jacket and white hat looks off camera .\n",
            "\n",
            "\n",
            "Image_URL:  /content/flikr/images/2603125422_659391f961.jpg\n",
            "Model_Generated_Caption:  A woman in a red sweatshirt and blue jeans is standing in front of a brick building with\n",
            "Actual_Caption:  A graffiti defaced wall serves as the gathering of a few people nearby a car .\n",
            "\n",
            "\n",
            "Image_URL:  /content/flikr/images/3396036947_0af6c3aab7.jpg\n",
            "Model_Generated_Caption:  A boy swings on a swing in a wooded area.\n",
            "Actual_Caption:  A little boy is swinging on a swing beside some trees and a river .\n",
            "\n",
            "\n",
            "Image_URL:  /content/flikr/images/2762702644_2aa3bf9680.jpg\n",
            "Model_Generated_Caption:  A woman in a white dress is talking to a man in a black dress.\n",
            "Actual_Caption:  A woman wearing black and red is playing a violin in front of a brick building .\n",
            "\n",
            "\n",
            "Image_URL:  /content/flikr/images/2644916196_16f91dae54.jpg\n",
            "Model_Generated_Caption:  A little boy is sitting in a bathtub with his hands in his pockets.\n",
            "Actual_Caption:  A little boy drinks milk and gets milk all over his face and table .\n",
            "\n",
            "\n",
            "Image_URL:  /content/flikr/images/2832487464_2d30634e1e.jpg\n",
            "Model_Generated_Caption:  A black and white dog is jumping over a hurdle.\n",
            "Actual_Caption:  A dog hurdles over a series of poles .\n",
            "\n",
            "\n",
            "Image_URL:  /content/flikr/images/2886411666_72d8b12ce4.jpg\n",
            "Model_Generated_Caption:  A brown and white dog is running through a grassy field.\n",
            "Actual_Caption:  A dog is galloping through the grass .\n",
            "\n",
            "\n",
            "Image_URL:  /content/flikr/images/3367053761_8ec5834bf3.jpg\n",
            "Model_Generated_Caption:  A man sits at a table with headphones on and a laptop in front of him.\n",
            "Actual_Caption:  Group of people , from behind , seated in a line of desks by windows in library .\n",
            "\n",
            "\n",
            "Image_URL:  /content/flikr/images/2723477522_d89f5ac62b.jpg\n",
            "Model_Generated_Caption:  A brown dog and a black dog are running in a grassy field.\n",
            "Actual_Caption:  A black dog is chasing a smaller brown dog over grass .\n",
            "\n",
            "\n",
            "Image_URL:  /content/flikr/images/3128514681_a51b415c31.jpg\n",
            "Model_Generated_Caption:  A woman and a man walk down the street.\n",
            "Actual_Caption:  Two woman wearing dresses stand in the street and pose .\n",
            "\n",
            "\n",
            "Image_URL:  /content/flikr/images/312427606_defa0dfaa8.jpg\n",
            "Model_Generated_Caption:  A little girl with a pinky finger is looking at the camera with her pinky finger.\n",
            "Actual_Caption:  A girl eating a peach .\n",
            "\n",
            "\n",
            "Image_URL:  /content/flikr/images/3182258223_5b9c8a8c55.jpg\n",
            "Model_Generated_Caption:  A man and a woman pose for a picture.\n",
            "Actual_Caption:  Girl stands reading a notebook .\n",
            "\n",
            "\n",
            "Image_URL:  /content/flikr/images/3056569684_c264c88d00.jpg\n",
            "Model_Generated_Caption:  A car is parked next to a truck in a parking lot.\n",
            "Actual_Caption:  A wrecked ambulance is being towed .\n",
            "\n",
            "\n",
            "Image_URL:  /content/flikr/images/3560081723_62da0035bd.jpg\n",
            "Model_Generated_Caption:  A man on a dirt bike is seen in the distance on a dirt road.\n",
            "Actual_Caption:  A man riding an ATV makes a jump over a dirt road .\n",
            "\n",
            "\n",
            "Image_URL:  /content/flikr/images/2192333873_2a0cbe849d.jpg\n",
            "Model_Generated_Caption:  A man and a dog sled down a snowy hill.\n",
            "Actual_Caption:  A boy watches another person falling in the snow .\n",
            "\n",
            "\n",
            "Image_URL:  /content/flikr/images/3397220683_4aca010f86.jpg\n",
            "Model_Generated_Caption:  A man in a red coat is carrying a sled in the snow.\n",
            "Actual_Caption:  A man and a dog outside in a snow storm .\n",
            "\n",
            "\n",
            "Image_URL:  /content/flikr/images/3339105374_cc41e0b7d7.jpg\n",
            "Model_Generated_Caption:  A man in a red jacket and black pants is snowboarding in front of a large tree.\n",
            "Actual_Caption:  Two people and a dog are in the snow .\n",
            "\n",
            "\n",
            "Image_URL:  /content/flikr/images/424506167_01f365726b.jpg\n",
            "Model_Generated_Caption:  A brown dog and a black dog are playing in a grassy field.\n",
            "Actual_Caption:  A small brown jumps in the air as a big brown dog watches .\n",
            "\n",
            "\n",
            "Image_URL:  /content/flikr/images/95728660_d47de66544.jpg\n",
            "Model_Generated_Caption:  A man is riding a bike on a trail through a wooded area.\n",
            "Actual_Caption:  A young man bicycles towards the camera and away from beautiful mountains on a clear day .\n",
            "\n",
            "\n",
            "Image_URL:  /content/flikr/images/2671602981_4edde92658.jpg\n",
            "Model_Generated_Caption:  A girl jumping off a dock into the water.\n",
            "Actual_Caption:  A little girl wearing a black tankini is jumping in the air with water in the background .\n",
            "\n",
            "\n",
            "Image_URL:  /content/flikr/images/498794783_cc2ac62b47.jpg\n",
            "Model_Generated_Caption:  A little girl in a pink shirt is holding a pink ribbon and smiling at the camera.\n",
            "Actual_Caption:  Girls blow bubbles outdoors .\n",
            "\n",
            "\n",
            "Image_URL:  /content/flikr/images/3159995270_17334ccb5b.jpg\n",
            "Model_Generated_Caption:  A person skis down a snowy hill.\n",
            "Actual_Caption:  A woman skies\n",
            "\n",
            "\n",
            "Image_URL:  /content/flikr/images/3004359992_f6b3617706.jpg\n",
            "Model_Generated_Caption:  A group of cheerleaders are jumping up in the air to catch a football.\n",
            "Actual_Caption:  A group of young women , one up in the air .\n",
            "\n",
            "\n",
            "Image_URL:  /content/flikr/images/3333017828_b930b9d41b.jpg\n",
            "Model_Generated_Caption:  A dog runs through the snow.\n",
            "Actual_Caption:  A white and brown dog runs along the shoreline .\n",
            "\n",
            "\n",
            "Image_URL:  /content/flikr/images/3038045802_93f2cd5fbc.jpg\n",
            "Model_Generated_Caption:  A snowboarder flies through the air.\n",
            "Actual_Caption:  A ski jumper enjoys winter fun .\n",
            "\n",
            "\n",
            "Image_URL:  /content/flikr/images/319851847_7212423309.jpg\n",
            "Model_Generated_Caption:  A man in a cowboy hat is holding a small animal.\n",
            "Actual_Caption:  A man weilding a chainsaw carves a log into a Gnome .\n",
            "\n",
            "\n",
            "Image_URL:  /content/flikr/images/3576259024_9c05b163aa.jpg\n",
            "Model_Generated_Caption:  A man is doing a wheelie on a dirt bike.\n",
            "Actual_Caption:  A man on a dirt bike , airborne .\n",
            "\n",
            "\n",
            "Image_URL:  /content/flikr/images/47870024_73a4481f7d.jpg\n",
            "Model_Generated_Caption:  A man is riding a skateboard on the side of the road.\n",
            "Actual_Caption:  A boy on a scooter .\n",
            "\n",
            "\n",
            "Image_URL:  /content/flikr/images/3329169877_175cb16845.jpg\n",
            "Model_Generated_Caption:  A snowboarder flies through the air.\n",
            "Actual_Caption:  A snowboarder flies through the air in front of leafless trees .\n",
            "\n",
            "\n",
            "Image_URL:  /content/flikr/images/3009644534_992e9ea2a7.jpg\n",
            "Model_Generated_Caption:  A brown and white dog is running through a field with a red toy in its mouth.\n",
            "Actual_Caption:  A dog carrying a white ball .\n",
            "\n",
            "\n",
            "Image_URL:  /content/flikr/images/3206999917_e682672cbc.jpg\n",
            "Model_Generated_Caption:  A brown and white dog is running through the snow.\n",
            "Actual_Caption:  A black , white and brown dog waking in the snow with a red toy in its mouth near an icey tree .\n",
            "\n",
            "\n",
            "Image_URL:  /content/flikr/images/3204354161_caf89ec784.jpg\n",
            "Model_Generated_Caption:  A man on a dirt bike is jumping over a jump.\n",
            "Actual_Caption:  A driver gets high in the air with his motorbike .\n",
            "\n",
            "\n",
            "Image_URL:  /content/flikr/images/823675317_b5fbdb17b3.jpg\n",
            "Model_Generated_Caption:  A boy in a blue shirt is running on the beach.\n",
            "Actual_Caption:  A boy in blue swim trunks carries a blue bucket down a crowded beach .\n",
            "\n",
            "\n",
            "Image_URL:  /content/flikr/images/3685328542_ab999b83bb.jpg\n",
            "Model_Generated_Caption:  A man in a red shirt is performing a martial arts move.\n",
            "Actual_Caption:  A man in a costume participates in a parade .\n",
            "\n",
            "\n",
            "Image_URL:  /content/flikr/images/3344798356_5cc41f7939.jpg\n",
            "Model_Generated_Caption:  A child in winter clothing is snowboarding.\n",
            "Actual_Caption:  A child skis across the snowy ground .\n",
            "\n",
            "\n",
            "Image_URL:  /content/flikr/images/251586160_a31b187a37.jpg\n",
            "Model_Generated_Caption:  A dog jumps in the air to catch a Frisbee.\n",
            "Actual_Caption:  A black dog springs up into a pool .\n",
            "\n",
            "\n",
            "Image_URL:  /content/flikr/images/3044500219_778f9f2b71.jpg\n",
            "Model_Generated_Caption:  A group of women posing for a picture.\n",
            "Actual_Caption:  four girls in evening wear are posing for a photograph .\n",
            "\n",
            "\n"
          ]
        }
      ],
      "source": [
        "\n",
        "for i in range(51):\n",
        "    inputs = test_ds[i]['pixel_values']\n",
        "    with torch.no_grad():\n",
        "        # uncomment the below line if feature extractor is not applied to the image already\n",
        "        # inputs = feature_extractor(images=inputs, return_tensors='pt').pixel_values\n",
        "\n",
        "        # generate caption for the image\n",
        "        out = model.generate(\n",
        "            inputs.unsqueeze(0).to('cuda'), # move inputs to GPU\n",
        "            num_beams=num_beams, \n",
        "            )\n",
        "\n",
        "    # convert token ids to string format\n",
        "    decoded_out = tokenizer.decode(out[0], skip_special_tokens=True)\n",
        "\n",
        "    print(\"Image_URL: \", test_ds.images[i])\n",
        "    print(\"Model_Generated_Caption: \", decoded_out)\n",
        "    print(\"Actual_Caption: \", test_ds.captions[i], end = '\\n\\n\\n')"
      ]
    },
    {
      "cell_type": "markdown",
      "source": [
        "#### We have tested the 51 samples of test dataset, out of which 2 captions were generated with an incomplete sentence and 5 captions were generated with context barely matching with the actual caption."
      ],
      "metadata": {
        "id": "Hk_H_-vdUY3S"
      }
    },
    {
      "cell_type": "code",
      "execution_count": null,
      "metadata": {
        "colab": {
          "background_save": true
        },
        "id": "kfIQRHfmqZbb"
      },
      "outputs": [],
      "source": []
    }
  ],
  "metadata": {
    "colab": {
      "provenance": [],
      "gpuType": "T4"
    },
    "gpuClass": "standard",
    "kernelspec": {
      "display_name": "Python 3",
      "name": "python3"
    },
    "language_info": {
      "name": "python"
    },
    "widgets": {
      "application/vnd.jupyter.widget-state+json": {
        "7b0f66ee87c84d178384c0402867d8c9": {
          "model_module": "@jupyter-widgets/controls",
          "model_name": "HBoxModel",
          "model_module_version": "1.5.0",
          "state": {
            "_dom_classes": [],
            "_model_module": "@jupyter-widgets/controls",
            "_model_module_version": "1.5.0",
            "_model_name": "HBoxModel",
            "_view_count": null,
            "_view_module": "@jupyter-widgets/controls",
            "_view_module_version": "1.5.0",
            "_view_name": "HBoxView",
            "box_style": "",
            "children": [
              "IPY_MODEL_a9e3c261c2404f43bea4658e49a3dc00",
              "IPY_MODEL_4061a9d74c8b499da38298040aa9bfce",
              "IPY_MODEL_c7170ca7c2dc4ba48782978b7f70c878"
            ],
            "layout": "IPY_MODEL_3497e43214ab47109b552d505761933e"
          }
        },
        "a9e3c261c2404f43bea4658e49a3dc00": {
          "model_module": "@jupyter-widgets/controls",
          "model_name": "HTMLModel",
          "model_module_version": "1.5.0",
          "state": {
            "_dom_classes": [],
            "_model_module": "@jupyter-widgets/controls",
            "_model_module_version": "1.5.0",
            "_model_name": "HTMLModel",
            "_view_count": null,
            "_view_module": "@jupyter-widgets/controls",
            "_view_module_version": "1.5.0",
            "_view_name": "HTMLView",
            "description": "",
            "description_tooltip": null,
            "layout": "IPY_MODEL_04c3db54fa7e45e9925615546bd99487",
            "placeholder": "​",
            "style": "IPY_MODEL_535f975ae60e4d508b1a816812ab05d4",
            "value": "Downloading (…)rocessor_config.json: 100%"
          }
        },
        "4061a9d74c8b499da38298040aa9bfce": {
          "model_module": "@jupyter-widgets/controls",
          "model_name": "FloatProgressModel",
          "model_module_version": "1.5.0",
          "state": {
            "_dom_classes": [],
            "_model_module": "@jupyter-widgets/controls",
            "_model_module_version": "1.5.0",
            "_model_name": "FloatProgressModel",
            "_view_count": null,
            "_view_module": "@jupyter-widgets/controls",
            "_view_module_version": "1.5.0",
            "_view_name": "ProgressView",
            "bar_style": "success",
            "description": "",
            "description_tooltip": null,
            "layout": "IPY_MODEL_70e2d7722fba413fa7862d827e12d610",
            "max": 160,
            "min": 0,
            "orientation": "horizontal",
            "style": "IPY_MODEL_74a52da018044bfc93b665fb6027f5f6",
            "value": 160
          }
        },
        "c7170ca7c2dc4ba48782978b7f70c878": {
          "model_module": "@jupyter-widgets/controls",
          "model_name": "HTMLModel",
          "model_module_version": "1.5.0",
          "state": {
            "_dom_classes": [],
            "_model_module": "@jupyter-widgets/controls",
            "_model_module_version": "1.5.0",
            "_model_name": "HTMLModel",
            "_view_count": null,
            "_view_module": "@jupyter-widgets/controls",
            "_view_module_version": "1.5.0",
            "_view_name": "HTMLView",
            "description": "",
            "description_tooltip": null,
            "layout": "IPY_MODEL_a6399b789ade4454a5b215681ff1189e",
            "placeholder": "​",
            "style": "IPY_MODEL_3cfb189630b44c2ba89039818cf06c07",
            "value": " 160/160 [00:00&lt;00:00, 8.45kB/s]"
          }
        },
        "3497e43214ab47109b552d505761933e": {
          "model_module": "@jupyter-widgets/base",
          "model_name": "LayoutModel",
          "model_module_version": "1.2.0",
          "state": {
            "_model_module": "@jupyter-widgets/base",
            "_model_module_version": "1.2.0",
            "_model_name": "LayoutModel",
            "_view_count": null,
            "_view_module": "@jupyter-widgets/base",
            "_view_module_version": "1.2.0",
            "_view_name": "LayoutView",
            "align_content": null,
            "align_items": null,
            "align_self": null,
            "border": null,
            "bottom": null,
            "display": null,
            "flex": null,
            "flex_flow": null,
            "grid_area": null,
            "grid_auto_columns": null,
            "grid_auto_flow": null,
            "grid_auto_rows": null,
            "grid_column": null,
            "grid_gap": null,
            "grid_row": null,
            "grid_template_areas": null,
            "grid_template_columns": null,
            "grid_template_rows": null,
            "height": null,
            "justify_content": null,
            "justify_items": null,
            "left": null,
            "margin": null,
            "max_height": null,
            "max_width": null,
            "min_height": null,
            "min_width": null,
            "object_fit": null,
            "object_position": null,
            "order": null,
            "overflow": null,
            "overflow_x": null,
            "overflow_y": null,
            "padding": null,
            "right": null,
            "top": null,
            "visibility": null,
            "width": null
          }
        },
        "04c3db54fa7e45e9925615546bd99487": {
          "model_module": "@jupyter-widgets/base",
          "model_name": "LayoutModel",
          "model_module_version": "1.2.0",
          "state": {
            "_model_module": "@jupyter-widgets/base",
            "_model_module_version": "1.2.0",
            "_model_name": "LayoutModel",
            "_view_count": null,
            "_view_module": "@jupyter-widgets/base",
            "_view_module_version": "1.2.0",
            "_view_name": "LayoutView",
            "align_content": null,
            "align_items": null,
            "align_self": null,
            "border": null,
            "bottom": null,
            "display": null,
            "flex": null,
            "flex_flow": null,
            "grid_area": null,
            "grid_auto_columns": null,
            "grid_auto_flow": null,
            "grid_auto_rows": null,
            "grid_column": null,
            "grid_gap": null,
            "grid_row": null,
            "grid_template_areas": null,
            "grid_template_columns": null,
            "grid_template_rows": null,
            "height": null,
            "justify_content": null,
            "justify_items": null,
            "left": null,
            "margin": null,
            "max_height": null,
            "max_width": null,
            "min_height": null,
            "min_width": null,
            "object_fit": null,
            "object_position": null,
            "order": null,
            "overflow": null,
            "overflow_x": null,
            "overflow_y": null,
            "padding": null,
            "right": null,
            "top": null,
            "visibility": null,
            "width": null
          }
        },
        "535f975ae60e4d508b1a816812ab05d4": {
          "model_module": "@jupyter-widgets/controls",
          "model_name": "DescriptionStyleModel",
          "model_module_version": "1.5.0",
          "state": {
            "_model_module": "@jupyter-widgets/controls",
            "_model_module_version": "1.5.0",
            "_model_name": "DescriptionStyleModel",
            "_view_count": null,
            "_view_module": "@jupyter-widgets/base",
            "_view_module_version": "1.2.0",
            "_view_name": "StyleView",
            "description_width": ""
          }
        },
        "70e2d7722fba413fa7862d827e12d610": {
          "model_module": "@jupyter-widgets/base",
          "model_name": "LayoutModel",
          "model_module_version": "1.2.0",
          "state": {
            "_model_module": "@jupyter-widgets/base",
            "_model_module_version": "1.2.0",
            "_model_name": "LayoutModel",
            "_view_count": null,
            "_view_module": "@jupyter-widgets/base",
            "_view_module_version": "1.2.0",
            "_view_name": "LayoutView",
            "align_content": null,
            "align_items": null,
            "align_self": null,
            "border": null,
            "bottom": null,
            "display": null,
            "flex": null,
            "flex_flow": null,
            "grid_area": null,
            "grid_auto_columns": null,
            "grid_auto_flow": null,
            "grid_auto_rows": null,
            "grid_column": null,
            "grid_gap": null,
            "grid_row": null,
            "grid_template_areas": null,
            "grid_template_columns": null,
            "grid_template_rows": null,
            "height": null,
            "justify_content": null,
            "justify_items": null,
            "left": null,
            "margin": null,
            "max_height": null,
            "max_width": null,
            "min_height": null,
            "min_width": null,
            "object_fit": null,
            "object_position": null,
            "order": null,
            "overflow": null,
            "overflow_x": null,
            "overflow_y": null,
            "padding": null,
            "right": null,
            "top": null,
            "visibility": null,
            "width": null
          }
        },
        "74a52da018044bfc93b665fb6027f5f6": {
          "model_module": "@jupyter-widgets/controls",
          "model_name": "ProgressStyleModel",
          "model_module_version": "1.5.0",
          "state": {
            "_model_module": "@jupyter-widgets/controls",
            "_model_module_version": "1.5.0",
            "_model_name": "ProgressStyleModel",
            "_view_count": null,
            "_view_module": "@jupyter-widgets/base",
            "_view_module_version": "1.2.0",
            "_view_name": "StyleView",
            "bar_color": null,
            "description_width": ""
          }
        },
        "a6399b789ade4454a5b215681ff1189e": {
          "model_module": "@jupyter-widgets/base",
          "model_name": "LayoutModel",
          "model_module_version": "1.2.0",
          "state": {
            "_model_module": "@jupyter-widgets/base",
            "_model_module_version": "1.2.0",
            "_model_name": "LayoutModel",
            "_view_count": null,
            "_view_module": "@jupyter-widgets/base",
            "_view_module_version": "1.2.0",
            "_view_name": "LayoutView",
            "align_content": null,
            "align_items": null,
            "align_self": null,
            "border": null,
            "bottom": null,
            "display": null,
            "flex": null,
            "flex_flow": null,
            "grid_area": null,
            "grid_auto_columns": null,
            "grid_auto_flow": null,
            "grid_auto_rows": null,
            "grid_column": null,
            "grid_gap": null,
            "grid_row": null,
            "grid_template_areas": null,
            "grid_template_columns": null,
            "grid_template_rows": null,
            "height": null,
            "justify_content": null,
            "justify_items": null,
            "left": null,
            "margin": null,
            "max_height": null,
            "max_width": null,
            "min_height": null,
            "min_width": null,
            "object_fit": null,
            "object_position": null,
            "order": null,
            "overflow": null,
            "overflow_x": null,
            "overflow_y": null,
            "padding": null,
            "right": null,
            "top": null,
            "visibility": null,
            "width": null
          }
        },
        "3cfb189630b44c2ba89039818cf06c07": {
          "model_module": "@jupyter-widgets/controls",
          "model_name": "DescriptionStyleModel",
          "model_module_version": "1.5.0",
          "state": {
            "_model_module": "@jupyter-widgets/controls",
            "_model_module_version": "1.5.0",
            "_model_name": "DescriptionStyleModel",
            "_view_count": null,
            "_view_module": "@jupyter-widgets/base",
            "_view_module_version": "1.2.0",
            "_view_name": "StyleView",
            "description_width": ""
          }
        },
        "1b123f2249c244988f87b6a7c529fa03": {
          "model_module": "@jupyter-widgets/controls",
          "model_name": "HBoxModel",
          "model_module_version": "1.5.0",
          "state": {
            "_dom_classes": [],
            "_model_module": "@jupyter-widgets/controls",
            "_model_module_version": "1.5.0",
            "_model_name": "HBoxModel",
            "_view_count": null,
            "_view_module": "@jupyter-widgets/controls",
            "_view_module_version": "1.5.0",
            "_view_name": "HBoxView",
            "box_style": "",
            "children": [
              "IPY_MODEL_bf54f037d26049eeac6928bf6d16e55b",
              "IPY_MODEL_260073e67ef64020a3cb07b0daa67591",
              "IPY_MODEL_fdaae8c1af5c467ca7097b11f3391064"
            ],
            "layout": "IPY_MODEL_ba6663af3d394b8191c1348172a394ca"
          }
        },
        "bf54f037d26049eeac6928bf6d16e55b": {
          "model_module": "@jupyter-widgets/controls",
          "model_name": "HTMLModel",
          "model_module_version": "1.5.0",
          "state": {
            "_dom_classes": [],
            "_model_module": "@jupyter-widgets/controls",
            "_model_module_version": "1.5.0",
            "_model_name": "HTMLModel",
            "_view_count": null,
            "_view_module": "@jupyter-widgets/controls",
            "_view_module_version": "1.5.0",
            "_view_name": "HTMLView",
            "description": "",
            "description_tooltip": null,
            "layout": "IPY_MODEL_2bc9277660ac4314aa39d8b482b1758d",
            "placeholder": "​",
            "style": "IPY_MODEL_7010b9b5899a4a6eae6dc2682b4ab3c5",
            "value": "Downloading (…)lve/main/config.json: 100%"
          }
        },
        "260073e67ef64020a3cb07b0daa67591": {
          "model_module": "@jupyter-widgets/controls",
          "model_name": "FloatProgressModel",
          "model_module_version": "1.5.0",
          "state": {
            "_dom_classes": [],
            "_model_module": "@jupyter-widgets/controls",
            "_model_module_version": "1.5.0",
            "_model_name": "FloatProgressModel",
            "_view_count": null,
            "_view_module": "@jupyter-widgets/controls",
            "_view_module_version": "1.5.0",
            "_view_name": "ProgressView",
            "bar_style": "success",
            "description": "",
            "description_tooltip": null,
            "layout": "IPY_MODEL_1e425da4e2344fe4b9a8f4be222695c1",
            "max": 502,
            "min": 0,
            "orientation": "horizontal",
            "style": "IPY_MODEL_ffd741fc896840a3a8977089ae0ce0ac",
            "value": 502
          }
        },
        "fdaae8c1af5c467ca7097b11f3391064": {
          "model_module": "@jupyter-widgets/controls",
          "model_name": "HTMLModel",
          "model_module_version": "1.5.0",
          "state": {
            "_dom_classes": [],
            "_model_module": "@jupyter-widgets/controls",
            "_model_module_version": "1.5.0",
            "_model_name": "HTMLModel",
            "_view_count": null,
            "_view_module": "@jupyter-widgets/controls",
            "_view_module_version": "1.5.0",
            "_view_name": "HTMLView",
            "description": "",
            "description_tooltip": null,
            "layout": "IPY_MODEL_bd1fc0f5d8644cfc9217b8b3850d6d56",
            "placeholder": "​",
            "style": "IPY_MODEL_35b7487177ac4c689c10c3a4904d6f6d",
            "value": " 502/502 [00:00&lt;00:00, 21.8kB/s]"
          }
        },
        "ba6663af3d394b8191c1348172a394ca": {
          "model_module": "@jupyter-widgets/base",
          "model_name": "LayoutModel",
          "model_module_version": "1.2.0",
          "state": {
            "_model_module": "@jupyter-widgets/base",
            "_model_module_version": "1.2.0",
            "_model_name": "LayoutModel",
            "_view_count": null,
            "_view_module": "@jupyter-widgets/base",
            "_view_module_version": "1.2.0",
            "_view_name": "LayoutView",
            "align_content": null,
            "align_items": null,
            "align_self": null,
            "border": null,
            "bottom": null,
            "display": null,
            "flex": null,
            "flex_flow": null,
            "grid_area": null,
            "grid_auto_columns": null,
            "grid_auto_flow": null,
            "grid_auto_rows": null,
            "grid_column": null,
            "grid_gap": null,
            "grid_row": null,
            "grid_template_areas": null,
            "grid_template_columns": null,
            "grid_template_rows": null,
            "height": null,
            "justify_content": null,
            "justify_items": null,
            "left": null,
            "margin": null,
            "max_height": null,
            "max_width": null,
            "min_height": null,
            "min_width": null,
            "object_fit": null,
            "object_position": null,
            "order": null,
            "overflow": null,
            "overflow_x": null,
            "overflow_y": null,
            "padding": null,
            "right": null,
            "top": null,
            "visibility": null,
            "width": null
          }
        },
        "2bc9277660ac4314aa39d8b482b1758d": {
          "model_module": "@jupyter-widgets/base",
          "model_name": "LayoutModel",
          "model_module_version": "1.2.0",
          "state": {
            "_model_module": "@jupyter-widgets/base",
            "_model_module_version": "1.2.0",
            "_model_name": "LayoutModel",
            "_view_count": null,
            "_view_module": "@jupyter-widgets/base",
            "_view_module_version": "1.2.0",
            "_view_name": "LayoutView",
            "align_content": null,
            "align_items": null,
            "align_self": null,
            "border": null,
            "bottom": null,
            "display": null,
            "flex": null,
            "flex_flow": null,
            "grid_area": null,
            "grid_auto_columns": null,
            "grid_auto_flow": null,
            "grid_auto_rows": null,
            "grid_column": null,
            "grid_gap": null,
            "grid_row": null,
            "grid_template_areas": null,
            "grid_template_columns": null,
            "grid_template_rows": null,
            "height": null,
            "justify_content": null,
            "justify_items": null,
            "left": null,
            "margin": null,
            "max_height": null,
            "max_width": null,
            "min_height": null,
            "min_width": null,
            "object_fit": null,
            "object_position": null,
            "order": null,
            "overflow": null,
            "overflow_x": null,
            "overflow_y": null,
            "padding": null,
            "right": null,
            "top": null,
            "visibility": null,
            "width": null
          }
        },
        "7010b9b5899a4a6eae6dc2682b4ab3c5": {
          "model_module": "@jupyter-widgets/controls",
          "model_name": "DescriptionStyleModel",
          "model_module_version": "1.5.0",
          "state": {
            "_model_module": "@jupyter-widgets/controls",
            "_model_module_version": "1.5.0",
            "_model_name": "DescriptionStyleModel",
            "_view_count": null,
            "_view_module": "@jupyter-widgets/base",
            "_view_module_version": "1.2.0",
            "_view_name": "StyleView",
            "description_width": ""
          }
        },
        "1e425da4e2344fe4b9a8f4be222695c1": {
          "model_module": "@jupyter-widgets/base",
          "model_name": "LayoutModel",
          "model_module_version": "1.2.0",
          "state": {
            "_model_module": "@jupyter-widgets/base",
            "_model_module_version": "1.2.0",
            "_model_name": "LayoutModel",
            "_view_count": null,
            "_view_module": "@jupyter-widgets/base",
            "_view_module_version": "1.2.0",
            "_view_name": "LayoutView",
            "align_content": null,
            "align_items": null,
            "align_self": null,
            "border": null,
            "bottom": null,
            "display": null,
            "flex": null,
            "flex_flow": null,
            "grid_area": null,
            "grid_auto_columns": null,
            "grid_auto_flow": null,
            "grid_auto_rows": null,
            "grid_column": null,
            "grid_gap": null,
            "grid_row": null,
            "grid_template_areas": null,
            "grid_template_columns": null,
            "grid_template_rows": null,
            "height": null,
            "justify_content": null,
            "justify_items": null,
            "left": null,
            "margin": null,
            "max_height": null,
            "max_width": null,
            "min_height": null,
            "min_width": null,
            "object_fit": null,
            "object_position": null,
            "order": null,
            "overflow": null,
            "overflow_x": null,
            "overflow_y": null,
            "padding": null,
            "right": null,
            "top": null,
            "visibility": null,
            "width": null
          }
        },
        "ffd741fc896840a3a8977089ae0ce0ac": {
          "model_module": "@jupyter-widgets/controls",
          "model_name": "ProgressStyleModel",
          "model_module_version": "1.5.0",
          "state": {
            "_model_module": "@jupyter-widgets/controls",
            "_model_module_version": "1.5.0",
            "_model_name": "ProgressStyleModel",
            "_view_count": null,
            "_view_module": "@jupyter-widgets/base",
            "_view_module_version": "1.2.0",
            "_view_name": "StyleView",
            "bar_color": null,
            "description_width": ""
          }
        },
        "bd1fc0f5d8644cfc9217b8b3850d6d56": {
          "model_module": "@jupyter-widgets/base",
          "model_name": "LayoutModel",
          "model_module_version": "1.2.0",
          "state": {
            "_model_module": "@jupyter-widgets/base",
            "_model_module_version": "1.2.0",
            "_model_name": "LayoutModel",
            "_view_count": null,
            "_view_module": "@jupyter-widgets/base",
            "_view_module_version": "1.2.0",
            "_view_name": "LayoutView",
            "align_content": null,
            "align_items": null,
            "align_self": null,
            "border": null,
            "bottom": null,
            "display": null,
            "flex": null,
            "flex_flow": null,
            "grid_area": null,
            "grid_auto_columns": null,
            "grid_auto_flow": null,
            "grid_auto_rows": null,
            "grid_column": null,
            "grid_gap": null,
            "grid_row": null,
            "grid_template_areas": null,
            "grid_template_columns": null,
            "grid_template_rows": null,
            "height": null,
            "justify_content": null,
            "justify_items": null,
            "left": null,
            "margin": null,
            "max_height": null,
            "max_width": null,
            "min_height": null,
            "min_width": null,
            "object_fit": null,
            "object_position": null,
            "order": null,
            "overflow": null,
            "overflow_x": null,
            "overflow_y": null,
            "padding": null,
            "right": null,
            "top": null,
            "visibility": null,
            "width": null
          }
        },
        "35b7487177ac4c689c10c3a4904d6f6d": {
          "model_module": "@jupyter-widgets/controls",
          "model_name": "DescriptionStyleModel",
          "model_module_version": "1.5.0",
          "state": {
            "_model_module": "@jupyter-widgets/controls",
            "_model_module_version": "1.5.0",
            "_model_name": "DescriptionStyleModel",
            "_view_count": null,
            "_view_module": "@jupyter-widgets/base",
            "_view_module_version": "1.2.0",
            "_view_name": "StyleView",
            "description_width": ""
          }
        },
        "0753104aac05427bae391d2487564d36": {
          "model_module": "@jupyter-widgets/controls",
          "model_name": "HBoxModel",
          "model_module_version": "1.5.0",
          "state": {
            "_dom_classes": [],
            "_model_module": "@jupyter-widgets/controls",
            "_model_module_version": "1.5.0",
            "_model_name": "HBoxModel",
            "_view_count": null,
            "_view_module": "@jupyter-widgets/controls",
            "_view_module_version": "1.5.0",
            "_view_name": "HBoxView",
            "box_style": "",
            "children": [
              "IPY_MODEL_477806f6122449e0af875f370e44391d",
              "IPY_MODEL_639ef25d5c5f4cca980adfecdfc932de",
              "IPY_MODEL_ae3cf27356fe45119d8aa1e0a0bf6310"
            ],
            "layout": "IPY_MODEL_f2aadab5f7264cd6bfb5968d55ead3f0"
          }
        },
        "477806f6122449e0af875f370e44391d": {
          "model_module": "@jupyter-widgets/controls",
          "model_name": "HTMLModel",
          "model_module_version": "1.5.0",
          "state": {
            "_dom_classes": [],
            "_model_module": "@jupyter-widgets/controls",
            "_model_module_version": "1.5.0",
            "_model_name": "HTMLModel",
            "_view_count": null,
            "_view_module": "@jupyter-widgets/controls",
            "_view_module_version": "1.5.0",
            "_view_name": "HTMLView",
            "description": "",
            "description_tooltip": null,
            "layout": "IPY_MODEL_9496642b39dc4c52a91b531081050a23",
            "placeholder": "​",
            "style": "IPY_MODEL_9763d544a11b4324ad0525d9ddb3e8d6",
            "value": "Downloading (…)lve/main/config.json: 100%"
          }
        },
        "639ef25d5c5f4cca980adfecdfc932de": {
          "model_module": "@jupyter-widgets/controls",
          "model_name": "FloatProgressModel",
          "model_module_version": "1.5.0",
          "state": {
            "_dom_classes": [],
            "_model_module": "@jupyter-widgets/controls",
            "_model_module_version": "1.5.0",
            "_model_name": "FloatProgressModel",
            "_view_count": null,
            "_view_module": "@jupyter-widgets/controls",
            "_view_module_version": "1.5.0",
            "_view_name": "ProgressView",
            "bar_style": "success",
            "description": "",
            "description_tooltip": null,
            "layout": "IPY_MODEL_902e3a2c11f3406f852076e6400c137f",
            "max": 665,
            "min": 0,
            "orientation": "horizontal",
            "style": "IPY_MODEL_1eaa1b15fa1d4a899b42eb0c41963be7",
            "value": 665
          }
        },
        "ae3cf27356fe45119d8aa1e0a0bf6310": {
          "model_module": "@jupyter-widgets/controls",
          "model_name": "HTMLModel",
          "model_module_version": "1.5.0",
          "state": {
            "_dom_classes": [],
            "_model_module": "@jupyter-widgets/controls",
            "_model_module_version": "1.5.0",
            "_model_name": "HTMLModel",
            "_view_count": null,
            "_view_module": "@jupyter-widgets/controls",
            "_view_module_version": "1.5.0",
            "_view_name": "HTMLView",
            "description": "",
            "description_tooltip": null,
            "layout": "IPY_MODEL_6624a4071e104774a76bd2610a3de5f3",
            "placeholder": "​",
            "style": "IPY_MODEL_cecd7bbdb3ff496793821c548c1c9b79",
            "value": " 665/665 [00:00&lt;00:00, 47.5kB/s]"
          }
        },
        "f2aadab5f7264cd6bfb5968d55ead3f0": {
          "model_module": "@jupyter-widgets/base",
          "model_name": "LayoutModel",
          "model_module_version": "1.2.0",
          "state": {
            "_model_module": "@jupyter-widgets/base",
            "_model_module_version": "1.2.0",
            "_model_name": "LayoutModel",
            "_view_count": null,
            "_view_module": "@jupyter-widgets/base",
            "_view_module_version": "1.2.0",
            "_view_name": "LayoutView",
            "align_content": null,
            "align_items": null,
            "align_self": null,
            "border": null,
            "bottom": null,
            "display": null,
            "flex": null,
            "flex_flow": null,
            "grid_area": null,
            "grid_auto_columns": null,
            "grid_auto_flow": null,
            "grid_auto_rows": null,
            "grid_column": null,
            "grid_gap": null,
            "grid_row": null,
            "grid_template_areas": null,
            "grid_template_columns": null,
            "grid_template_rows": null,
            "height": null,
            "justify_content": null,
            "justify_items": null,
            "left": null,
            "margin": null,
            "max_height": null,
            "max_width": null,
            "min_height": null,
            "min_width": null,
            "object_fit": null,
            "object_position": null,
            "order": null,
            "overflow": null,
            "overflow_x": null,
            "overflow_y": null,
            "padding": null,
            "right": null,
            "top": null,
            "visibility": null,
            "width": null
          }
        },
        "9496642b39dc4c52a91b531081050a23": {
          "model_module": "@jupyter-widgets/base",
          "model_name": "LayoutModel",
          "model_module_version": "1.2.0",
          "state": {
            "_model_module": "@jupyter-widgets/base",
            "_model_module_version": "1.2.0",
            "_model_name": "LayoutModel",
            "_view_count": null,
            "_view_module": "@jupyter-widgets/base",
            "_view_module_version": "1.2.0",
            "_view_name": "LayoutView",
            "align_content": null,
            "align_items": null,
            "align_self": null,
            "border": null,
            "bottom": null,
            "display": null,
            "flex": null,
            "flex_flow": null,
            "grid_area": null,
            "grid_auto_columns": null,
            "grid_auto_flow": null,
            "grid_auto_rows": null,
            "grid_column": null,
            "grid_gap": null,
            "grid_row": null,
            "grid_template_areas": null,
            "grid_template_columns": null,
            "grid_template_rows": null,
            "height": null,
            "justify_content": null,
            "justify_items": null,
            "left": null,
            "margin": null,
            "max_height": null,
            "max_width": null,
            "min_height": null,
            "min_width": null,
            "object_fit": null,
            "object_position": null,
            "order": null,
            "overflow": null,
            "overflow_x": null,
            "overflow_y": null,
            "padding": null,
            "right": null,
            "top": null,
            "visibility": null,
            "width": null
          }
        },
        "9763d544a11b4324ad0525d9ddb3e8d6": {
          "model_module": "@jupyter-widgets/controls",
          "model_name": "DescriptionStyleModel",
          "model_module_version": "1.5.0",
          "state": {
            "_model_module": "@jupyter-widgets/controls",
            "_model_module_version": "1.5.0",
            "_model_name": "DescriptionStyleModel",
            "_view_count": null,
            "_view_module": "@jupyter-widgets/base",
            "_view_module_version": "1.2.0",
            "_view_name": "StyleView",
            "description_width": ""
          }
        },
        "902e3a2c11f3406f852076e6400c137f": {
          "model_module": "@jupyter-widgets/base",
          "model_name": "LayoutModel",
          "model_module_version": "1.2.0",
          "state": {
            "_model_module": "@jupyter-widgets/base",
            "_model_module_version": "1.2.0",
            "_model_name": "LayoutModel",
            "_view_count": null,
            "_view_module": "@jupyter-widgets/base",
            "_view_module_version": "1.2.0",
            "_view_name": "LayoutView",
            "align_content": null,
            "align_items": null,
            "align_self": null,
            "border": null,
            "bottom": null,
            "display": null,
            "flex": null,
            "flex_flow": null,
            "grid_area": null,
            "grid_auto_columns": null,
            "grid_auto_flow": null,
            "grid_auto_rows": null,
            "grid_column": null,
            "grid_gap": null,
            "grid_row": null,
            "grid_template_areas": null,
            "grid_template_columns": null,
            "grid_template_rows": null,
            "height": null,
            "justify_content": null,
            "justify_items": null,
            "left": null,
            "margin": null,
            "max_height": null,
            "max_width": null,
            "min_height": null,
            "min_width": null,
            "object_fit": null,
            "object_position": null,
            "order": null,
            "overflow": null,
            "overflow_x": null,
            "overflow_y": null,
            "padding": null,
            "right": null,
            "top": null,
            "visibility": null,
            "width": null
          }
        },
        "1eaa1b15fa1d4a899b42eb0c41963be7": {
          "model_module": "@jupyter-widgets/controls",
          "model_name": "ProgressStyleModel",
          "model_module_version": "1.5.0",
          "state": {
            "_model_module": "@jupyter-widgets/controls",
            "_model_module_version": "1.5.0",
            "_model_name": "ProgressStyleModel",
            "_view_count": null,
            "_view_module": "@jupyter-widgets/base",
            "_view_module_version": "1.2.0",
            "_view_name": "StyleView",
            "bar_color": null,
            "description_width": ""
          }
        },
        "6624a4071e104774a76bd2610a3de5f3": {
          "model_module": "@jupyter-widgets/base",
          "model_name": "LayoutModel",
          "model_module_version": "1.2.0",
          "state": {
            "_model_module": "@jupyter-widgets/base",
            "_model_module_version": "1.2.0",
            "_model_name": "LayoutModel",
            "_view_count": null,
            "_view_module": "@jupyter-widgets/base",
            "_view_module_version": "1.2.0",
            "_view_name": "LayoutView",
            "align_content": null,
            "align_items": null,
            "align_self": null,
            "border": null,
            "bottom": null,
            "display": null,
            "flex": null,
            "flex_flow": null,
            "grid_area": null,
            "grid_auto_columns": null,
            "grid_auto_flow": null,
            "grid_auto_rows": null,
            "grid_column": null,
            "grid_gap": null,
            "grid_row": null,
            "grid_template_areas": null,
            "grid_template_columns": null,
            "grid_template_rows": null,
            "height": null,
            "justify_content": null,
            "justify_items": null,
            "left": null,
            "margin": null,
            "max_height": null,
            "max_width": null,
            "min_height": null,
            "min_width": null,
            "object_fit": null,
            "object_position": null,
            "order": null,
            "overflow": null,
            "overflow_x": null,
            "overflow_y": null,
            "padding": null,
            "right": null,
            "top": null,
            "visibility": null,
            "width": null
          }
        },
        "cecd7bbdb3ff496793821c548c1c9b79": {
          "model_module": "@jupyter-widgets/controls",
          "model_name": "DescriptionStyleModel",
          "model_module_version": "1.5.0",
          "state": {
            "_model_module": "@jupyter-widgets/controls",
            "_model_module_version": "1.5.0",
            "_model_name": "DescriptionStyleModel",
            "_view_count": null,
            "_view_module": "@jupyter-widgets/base",
            "_view_module_version": "1.2.0",
            "_view_name": "StyleView",
            "description_width": ""
          }
        },
        "8d9885c17e11406ea456ae08463b55ca": {
          "model_module": "@jupyter-widgets/controls",
          "model_name": "HBoxModel",
          "model_module_version": "1.5.0",
          "state": {
            "_dom_classes": [],
            "_model_module": "@jupyter-widgets/controls",
            "_model_module_version": "1.5.0",
            "_model_name": "HBoxModel",
            "_view_count": null,
            "_view_module": "@jupyter-widgets/controls",
            "_view_module_version": "1.5.0",
            "_view_name": "HBoxView",
            "box_style": "",
            "children": [
              "IPY_MODEL_2384b89428654ca5a4cbc784e8361da8",
              "IPY_MODEL_6f9104fdb5f3432187a8d5129f1f73ff",
              "IPY_MODEL_e28226cfbcf0427283ccb4642bef934c"
            ],
            "layout": "IPY_MODEL_2a12645f0600461ba04c21bbf0f1b1b0"
          }
        },
        "2384b89428654ca5a4cbc784e8361da8": {
          "model_module": "@jupyter-widgets/controls",
          "model_name": "HTMLModel",
          "model_module_version": "1.5.0",
          "state": {
            "_dom_classes": [],
            "_model_module": "@jupyter-widgets/controls",
            "_model_module_version": "1.5.0",
            "_model_name": "HTMLModel",
            "_view_count": null,
            "_view_module": "@jupyter-widgets/controls",
            "_view_module_version": "1.5.0",
            "_view_name": "HTMLView",
            "description": "",
            "description_tooltip": null,
            "layout": "IPY_MODEL_d8d5cd00ec844511abfb083f6380a17a",
            "placeholder": "​",
            "style": "IPY_MODEL_aa2e744581614f88b287fa0610d0a18f",
            "value": "Downloading (…)olve/main/vocab.json: 100%"
          }
        },
        "6f9104fdb5f3432187a8d5129f1f73ff": {
          "model_module": "@jupyter-widgets/controls",
          "model_name": "FloatProgressModel",
          "model_module_version": "1.5.0",
          "state": {
            "_dom_classes": [],
            "_model_module": "@jupyter-widgets/controls",
            "_model_module_version": "1.5.0",
            "_model_name": "FloatProgressModel",
            "_view_count": null,
            "_view_module": "@jupyter-widgets/controls",
            "_view_module_version": "1.5.0",
            "_view_name": "ProgressView",
            "bar_style": "success",
            "description": "",
            "description_tooltip": null,
            "layout": "IPY_MODEL_83fbe9f1c9c14af9a8b8962d374a6024",
            "max": 1042301,
            "min": 0,
            "orientation": "horizontal",
            "style": "IPY_MODEL_09dadc1687fc45d88e8e227fdb113549",
            "value": 1042301
          }
        },
        "e28226cfbcf0427283ccb4642bef934c": {
          "model_module": "@jupyter-widgets/controls",
          "model_name": "HTMLModel",
          "model_module_version": "1.5.0",
          "state": {
            "_dom_classes": [],
            "_model_module": "@jupyter-widgets/controls",
            "_model_module_version": "1.5.0",
            "_model_name": "HTMLModel",
            "_view_count": null,
            "_view_module": "@jupyter-widgets/controls",
            "_view_module_version": "1.5.0",
            "_view_name": "HTMLView",
            "description": "",
            "description_tooltip": null,
            "layout": "IPY_MODEL_55cff5545dca42ea87313b9cd32be627",
            "placeholder": "​",
            "style": "IPY_MODEL_8b0117df2b02429c96f1885cd10fb647",
            "value": " 1.04M/1.04M [00:00&lt;00:00, 40.7MB/s]"
          }
        },
        "2a12645f0600461ba04c21bbf0f1b1b0": {
          "model_module": "@jupyter-widgets/base",
          "model_name": "LayoutModel",
          "model_module_version": "1.2.0",
          "state": {
            "_model_module": "@jupyter-widgets/base",
            "_model_module_version": "1.2.0",
            "_model_name": "LayoutModel",
            "_view_count": null,
            "_view_module": "@jupyter-widgets/base",
            "_view_module_version": "1.2.0",
            "_view_name": "LayoutView",
            "align_content": null,
            "align_items": null,
            "align_self": null,
            "border": null,
            "bottom": null,
            "display": null,
            "flex": null,
            "flex_flow": null,
            "grid_area": null,
            "grid_auto_columns": null,
            "grid_auto_flow": null,
            "grid_auto_rows": null,
            "grid_column": null,
            "grid_gap": null,
            "grid_row": null,
            "grid_template_areas": null,
            "grid_template_columns": null,
            "grid_template_rows": null,
            "height": null,
            "justify_content": null,
            "justify_items": null,
            "left": null,
            "margin": null,
            "max_height": null,
            "max_width": null,
            "min_height": null,
            "min_width": null,
            "object_fit": null,
            "object_position": null,
            "order": null,
            "overflow": null,
            "overflow_x": null,
            "overflow_y": null,
            "padding": null,
            "right": null,
            "top": null,
            "visibility": null,
            "width": null
          }
        },
        "d8d5cd00ec844511abfb083f6380a17a": {
          "model_module": "@jupyter-widgets/base",
          "model_name": "LayoutModel",
          "model_module_version": "1.2.0",
          "state": {
            "_model_module": "@jupyter-widgets/base",
            "_model_module_version": "1.2.0",
            "_model_name": "LayoutModel",
            "_view_count": null,
            "_view_module": "@jupyter-widgets/base",
            "_view_module_version": "1.2.0",
            "_view_name": "LayoutView",
            "align_content": null,
            "align_items": null,
            "align_self": null,
            "border": null,
            "bottom": null,
            "display": null,
            "flex": null,
            "flex_flow": null,
            "grid_area": null,
            "grid_auto_columns": null,
            "grid_auto_flow": null,
            "grid_auto_rows": null,
            "grid_column": null,
            "grid_gap": null,
            "grid_row": null,
            "grid_template_areas": null,
            "grid_template_columns": null,
            "grid_template_rows": null,
            "height": null,
            "justify_content": null,
            "justify_items": null,
            "left": null,
            "margin": null,
            "max_height": null,
            "max_width": null,
            "min_height": null,
            "min_width": null,
            "object_fit": null,
            "object_position": null,
            "order": null,
            "overflow": null,
            "overflow_x": null,
            "overflow_y": null,
            "padding": null,
            "right": null,
            "top": null,
            "visibility": null,
            "width": null
          }
        },
        "aa2e744581614f88b287fa0610d0a18f": {
          "model_module": "@jupyter-widgets/controls",
          "model_name": "DescriptionStyleModel",
          "model_module_version": "1.5.0",
          "state": {
            "_model_module": "@jupyter-widgets/controls",
            "_model_module_version": "1.5.0",
            "_model_name": "DescriptionStyleModel",
            "_view_count": null,
            "_view_module": "@jupyter-widgets/base",
            "_view_module_version": "1.2.0",
            "_view_name": "StyleView",
            "description_width": ""
          }
        },
        "83fbe9f1c9c14af9a8b8962d374a6024": {
          "model_module": "@jupyter-widgets/base",
          "model_name": "LayoutModel",
          "model_module_version": "1.2.0",
          "state": {
            "_model_module": "@jupyter-widgets/base",
            "_model_module_version": "1.2.0",
            "_model_name": "LayoutModel",
            "_view_count": null,
            "_view_module": "@jupyter-widgets/base",
            "_view_module_version": "1.2.0",
            "_view_name": "LayoutView",
            "align_content": null,
            "align_items": null,
            "align_self": null,
            "border": null,
            "bottom": null,
            "display": null,
            "flex": null,
            "flex_flow": null,
            "grid_area": null,
            "grid_auto_columns": null,
            "grid_auto_flow": null,
            "grid_auto_rows": null,
            "grid_column": null,
            "grid_gap": null,
            "grid_row": null,
            "grid_template_areas": null,
            "grid_template_columns": null,
            "grid_template_rows": null,
            "height": null,
            "justify_content": null,
            "justify_items": null,
            "left": null,
            "margin": null,
            "max_height": null,
            "max_width": null,
            "min_height": null,
            "min_width": null,
            "object_fit": null,
            "object_position": null,
            "order": null,
            "overflow": null,
            "overflow_x": null,
            "overflow_y": null,
            "padding": null,
            "right": null,
            "top": null,
            "visibility": null,
            "width": null
          }
        },
        "09dadc1687fc45d88e8e227fdb113549": {
          "model_module": "@jupyter-widgets/controls",
          "model_name": "ProgressStyleModel",
          "model_module_version": "1.5.0",
          "state": {
            "_model_module": "@jupyter-widgets/controls",
            "_model_module_version": "1.5.0",
            "_model_name": "ProgressStyleModel",
            "_view_count": null,
            "_view_module": "@jupyter-widgets/base",
            "_view_module_version": "1.2.0",
            "_view_name": "StyleView",
            "bar_color": null,
            "description_width": ""
          }
        },
        "55cff5545dca42ea87313b9cd32be627": {
          "model_module": "@jupyter-widgets/base",
          "model_name": "LayoutModel",
          "model_module_version": "1.2.0",
          "state": {
            "_model_module": "@jupyter-widgets/base",
            "_model_module_version": "1.2.0",
            "_model_name": "LayoutModel",
            "_view_count": null,
            "_view_module": "@jupyter-widgets/base",
            "_view_module_version": "1.2.0",
            "_view_name": "LayoutView",
            "align_content": null,
            "align_items": null,
            "align_self": null,
            "border": null,
            "bottom": null,
            "display": null,
            "flex": null,
            "flex_flow": null,
            "grid_area": null,
            "grid_auto_columns": null,
            "grid_auto_flow": null,
            "grid_auto_rows": null,
            "grid_column": null,
            "grid_gap": null,
            "grid_row": null,
            "grid_template_areas": null,
            "grid_template_columns": null,
            "grid_template_rows": null,
            "height": null,
            "justify_content": null,
            "justify_items": null,
            "left": null,
            "margin": null,
            "max_height": null,
            "max_width": null,
            "min_height": null,
            "min_width": null,
            "object_fit": null,
            "object_position": null,
            "order": null,
            "overflow": null,
            "overflow_x": null,
            "overflow_y": null,
            "padding": null,
            "right": null,
            "top": null,
            "visibility": null,
            "width": null
          }
        },
        "8b0117df2b02429c96f1885cd10fb647": {
          "model_module": "@jupyter-widgets/controls",
          "model_name": "DescriptionStyleModel",
          "model_module_version": "1.5.0",
          "state": {
            "_model_module": "@jupyter-widgets/controls",
            "_model_module_version": "1.5.0",
            "_model_name": "DescriptionStyleModel",
            "_view_count": null,
            "_view_module": "@jupyter-widgets/base",
            "_view_module_version": "1.2.0",
            "_view_name": "StyleView",
            "description_width": ""
          }
        },
        "ffb88aa761574b08b34c66456e47016d": {
          "model_module": "@jupyter-widgets/controls",
          "model_name": "HBoxModel",
          "model_module_version": "1.5.0",
          "state": {
            "_dom_classes": [],
            "_model_module": "@jupyter-widgets/controls",
            "_model_module_version": "1.5.0",
            "_model_name": "HBoxModel",
            "_view_count": null,
            "_view_module": "@jupyter-widgets/controls",
            "_view_module_version": "1.5.0",
            "_view_name": "HBoxView",
            "box_style": "",
            "children": [
              "IPY_MODEL_a4cb587576064c7b8d52b907e1973c56",
              "IPY_MODEL_cb46da5351c044a2b9784f7189fa6ac9",
              "IPY_MODEL_c052324910b7410fa011b4b1f7193581"
            ],
            "layout": "IPY_MODEL_1088153c92ff4424a9e7c7133351de3a"
          }
        },
        "a4cb587576064c7b8d52b907e1973c56": {
          "model_module": "@jupyter-widgets/controls",
          "model_name": "HTMLModel",
          "model_module_version": "1.5.0",
          "state": {
            "_dom_classes": [],
            "_model_module": "@jupyter-widgets/controls",
            "_model_module_version": "1.5.0",
            "_model_name": "HTMLModel",
            "_view_count": null,
            "_view_module": "@jupyter-widgets/controls",
            "_view_module_version": "1.5.0",
            "_view_name": "HTMLView",
            "description": "",
            "description_tooltip": null,
            "layout": "IPY_MODEL_6a4bde34309043249c3906fa29966ba5",
            "placeholder": "​",
            "style": "IPY_MODEL_da491279f42548a3bd000502f852dce5",
            "value": "Downloading (…)olve/main/merges.txt: 100%"
          }
        },
        "cb46da5351c044a2b9784f7189fa6ac9": {
          "model_module": "@jupyter-widgets/controls",
          "model_name": "FloatProgressModel",
          "model_module_version": "1.5.0",
          "state": {
            "_dom_classes": [],
            "_model_module": "@jupyter-widgets/controls",
            "_model_module_version": "1.5.0",
            "_model_name": "FloatProgressModel",
            "_view_count": null,
            "_view_module": "@jupyter-widgets/controls",
            "_view_module_version": "1.5.0",
            "_view_name": "ProgressView",
            "bar_style": "success",
            "description": "",
            "description_tooltip": null,
            "layout": "IPY_MODEL_9b3f75a6a2fe4c4d8fc7c323d45b5296",
            "max": 456318,
            "min": 0,
            "orientation": "horizontal",
            "style": "IPY_MODEL_0ef7746b4148422d982e4de79ae72768",
            "value": 456318
          }
        },
        "c052324910b7410fa011b4b1f7193581": {
          "model_module": "@jupyter-widgets/controls",
          "model_name": "HTMLModel",
          "model_module_version": "1.5.0",
          "state": {
            "_dom_classes": [],
            "_model_module": "@jupyter-widgets/controls",
            "_model_module_version": "1.5.0",
            "_model_name": "HTMLModel",
            "_view_count": null,
            "_view_module": "@jupyter-widgets/controls",
            "_view_module_version": "1.5.0",
            "_view_name": "HTMLView",
            "description": "",
            "description_tooltip": null,
            "layout": "IPY_MODEL_3eabacf90911482582373ebe08c12a5b",
            "placeholder": "​",
            "style": "IPY_MODEL_92501563eeb440f0a2d9d3233dffecb2",
            "value": " 456k/456k [00:00&lt;00:00, 2.16MB/s]"
          }
        },
        "1088153c92ff4424a9e7c7133351de3a": {
          "model_module": "@jupyter-widgets/base",
          "model_name": "LayoutModel",
          "model_module_version": "1.2.0",
          "state": {
            "_model_module": "@jupyter-widgets/base",
            "_model_module_version": "1.2.0",
            "_model_name": "LayoutModel",
            "_view_count": null,
            "_view_module": "@jupyter-widgets/base",
            "_view_module_version": "1.2.0",
            "_view_name": "LayoutView",
            "align_content": null,
            "align_items": null,
            "align_self": null,
            "border": null,
            "bottom": null,
            "display": null,
            "flex": null,
            "flex_flow": null,
            "grid_area": null,
            "grid_auto_columns": null,
            "grid_auto_flow": null,
            "grid_auto_rows": null,
            "grid_column": null,
            "grid_gap": null,
            "grid_row": null,
            "grid_template_areas": null,
            "grid_template_columns": null,
            "grid_template_rows": null,
            "height": null,
            "justify_content": null,
            "justify_items": null,
            "left": null,
            "margin": null,
            "max_height": null,
            "max_width": null,
            "min_height": null,
            "min_width": null,
            "object_fit": null,
            "object_position": null,
            "order": null,
            "overflow": null,
            "overflow_x": null,
            "overflow_y": null,
            "padding": null,
            "right": null,
            "top": null,
            "visibility": null,
            "width": null
          }
        },
        "6a4bde34309043249c3906fa29966ba5": {
          "model_module": "@jupyter-widgets/base",
          "model_name": "LayoutModel",
          "model_module_version": "1.2.0",
          "state": {
            "_model_module": "@jupyter-widgets/base",
            "_model_module_version": "1.2.0",
            "_model_name": "LayoutModel",
            "_view_count": null,
            "_view_module": "@jupyter-widgets/base",
            "_view_module_version": "1.2.0",
            "_view_name": "LayoutView",
            "align_content": null,
            "align_items": null,
            "align_self": null,
            "border": null,
            "bottom": null,
            "display": null,
            "flex": null,
            "flex_flow": null,
            "grid_area": null,
            "grid_auto_columns": null,
            "grid_auto_flow": null,
            "grid_auto_rows": null,
            "grid_column": null,
            "grid_gap": null,
            "grid_row": null,
            "grid_template_areas": null,
            "grid_template_columns": null,
            "grid_template_rows": null,
            "height": null,
            "justify_content": null,
            "justify_items": null,
            "left": null,
            "margin": null,
            "max_height": null,
            "max_width": null,
            "min_height": null,
            "min_width": null,
            "object_fit": null,
            "object_position": null,
            "order": null,
            "overflow": null,
            "overflow_x": null,
            "overflow_y": null,
            "padding": null,
            "right": null,
            "top": null,
            "visibility": null,
            "width": null
          }
        },
        "da491279f42548a3bd000502f852dce5": {
          "model_module": "@jupyter-widgets/controls",
          "model_name": "DescriptionStyleModel",
          "model_module_version": "1.5.0",
          "state": {
            "_model_module": "@jupyter-widgets/controls",
            "_model_module_version": "1.5.0",
            "_model_name": "DescriptionStyleModel",
            "_view_count": null,
            "_view_module": "@jupyter-widgets/base",
            "_view_module_version": "1.2.0",
            "_view_name": "StyleView",
            "description_width": ""
          }
        },
        "9b3f75a6a2fe4c4d8fc7c323d45b5296": {
          "model_module": "@jupyter-widgets/base",
          "model_name": "LayoutModel",
          "model_module_version": "1.2.0",
          "state": {
            "_model_module": "@jupyter-widgets/base",
            "_model_module_version": "1.2.0",
            "_model_name": "LayoutModel",
            "_view_count": null,
            "_view_module": "@jupyter-widgets/base",
            "_view_module_version": "1.2.0",
            "_view_name": "LayoutView",
            "align_content": null,
            "align_items": null,
            "align_self": null,
            "border": null,
            "bottom": null,
            "display": null,
            "flex": null,
            "flex_flow": null,
            "grid_area": null,
            "grid_auto_columns": null,
            "grid_auto_flow": null,
            "grid_auto_rows": null,
            "grid_column": null,
            "grid_gap": null,
            "grid_row": null,
            "grid_template_areas": null,
            "grid_template_columns": null,
            "grid_template_rows": null,
            "height": null,
            "justify_content": null,
            "justify_items": null,
            "left": null,
            "margin": null,
            "max_height": null,
            "max_width": null,
            "min_height": null,
            "min_width": null,
            "object_fit": null,
            "object_position": null,
            "order": null,
            "overflow": null,
            "overflow_x": null,
            "overflow_y": null,
            "padding": null,
            "right": null,
            "top": null,
            "visibility": null,
            "width": null
          }
        },
        "0ef7746b4148422d982e4de79ae72768": {
          "model_module": "@jupyter-widgets/controls",
          "model_name": "ProgressStyleModel",
          "model_module_version": "1.5.0",
          "state": {
            "_model_module": "@jupyter-widgets/controls",
            "_model_module_version": "1.5.0",
            "_model_name": "ProgressStyleModel",
            "_view_count": null,
            "_view_module": "@jupyter-widgets/base",
            "_view_module_version": "1.2.0",
            "_view_name": "StyleView",
            "bar_color": null,
            "description_width": ""
          }
        },
        "3eabacf90911482582373ebe08c12a5b": {
          "model_module": "@jupyter-widgets/base",
          "model_name": "LayoutModel",
          "model_module_version": "1.2.0",
          "state": {
            "_model_module": "@jupyter-widgets/base",
            "_model_module_version": "1.2.0",
            "_model_name": "LayoutModel",
            "_view_count": null,
            "_view_module": "@jupyter-widgets/base",
            "_view_module_version": "1.2.0",
            "_view_name": "LayoutView",
            "align_content": null,
            "align_items": null,
            "align_self": null,
            "border": null,
            "bottom": null,
            "display": null,
            "flex": null,
            "flex_flow": null,
            "grid_area": null,
            "grid_auto_columns": null,
            "grid_auto_flow": null,
            "grid_auto_rows": null,
            "grid_column": null,
            "grid_gap": null,
            "grid_row": null,
            "grid_template_areas": null,
            "grid_template_columns": null,
            "grid_template_rows": null,
            "height": null,
            "justify_content": null,
            "justify_items": null,
            "left": null,
            "margin": null,
            "max_height": null,
            "max_width": null,
            "min_height": null,
            "min_width": null,
            "object_fit": null,
            "object_position": null,
            "order": null,
            "overflow": null,
            "overflow_x": null,
            "overflow_y": null,
            "padding": null,
            "right": null,
            "top": null,
            "visibility": null,
            "width": null
          }
        },
        "92501563eeb440f0a2d9d3233dffecb2": {
          "model_module": "@jupyter-widgets/controls",
          "model_name": "DescriptionStyleModel",
          "model_module_version": "1.5.0",
          "state": {
            "_model_module": "@jupyter-widgets/controls",
            "_model_module_version": "1.5.0",
            "_model_name": "DescriptionStyleModel",
            "_view_count": null,
            "_view_module": "@jupyter-widgets/base",
            "_view_module_version": "1.2.0",
            "_view_name": "StyleView",
            "description_width": ""
          }
        },
        "305a1205b7e9476aa63e6eda9b813577": {
          "model_module": "@jupyter-widgets/controls",
          "model_name": "HBoxModel",
          "model_module_version": "1.5.0",
          "state": {
            "_dom_classes": [],
            "_model_module": "@jupyter-widgets/controls",
            "_model_module_version": "1.5.0",
            "_model_name": "HBoxModel",
            "_view_count": null,
            "_view_module": "@jupyter-widgets/controls",
            "_view_module_version": "1.5.0",
            "_view_name": "HBoxView",
            "box_style": "",
            "children": [
              "IPY_MODEL_c07dade3188b4b24bcad16344e5980cd",
              "IPY_MODEL_349f55e8f9e74ccba21888759b7e8d12",
              "IPY_MODEL_fda307e836a24e1da909e9b1758aa6fa"
            ],
            "layout": "IPY_MODEL_403697faca024dec801c979dd446fc8d"
          }
        },
        "c07dade3188b4b24bcad16344e5980cd": {
          "model_module": "@jupyter-widgets/controls",
          "model_name": "HTMLModel",
          "model_module_version": "1.5.0",
          "state": {
            "_dom_classes": [],
            "_model_module": "@jupyter-widgets/controls",
            "_model_module_version": "1.5.0",
            "_model_name": "HTMLModel",
            "_view_count": null,
            "_view_module": "@jupyter-widgets/controls",
            "_view_module_version": "1.5.0",
            "_view_name": "HTMLView",
            "description": "",
            "description_tooltip": null,
            "layout": "IPY_MODEL_8c2f45e105bc4855a5be8a75bcef1cb0",
            "placeholder": "​",
            "style": "IPY_MODEL_a7df332b358c442998875cd348d12341",
            "value": "Downloading (…)/main/tokenizer.json: 100%"
          }
        },
        "349f55e8f9e74ccba21888759b7e8d12": {
          "model_module": "@jupyter-widgets/controls",
          "model_name": "FloatProgressModel",
          "model_module_version": "1.5.0",
          "state": {
            "_dom_classes": [],
            "_model_module": "@jupyter-widgets/controls",
            "_model_module_version": "1.5.0",
            "_model_name": "FloatProgressModel",
            "_view_count": null,
            "_view_module": "@jupyter-widgets/controls",
            "_view_module_version": "1.5.0",
            "_view_name": "ProgressView",
            "bar_style": "success",
            "description": "",
            "description_tooltip": null,
            "layout": "IPY_MODEL_35953623e91b442087c30b9b9e3d5aaa",
            "max": 1355256,
            "min": 0,
            "orientation": "horizontal",
            "style": "IPY_MODEL_4764b8dd6c494cbea56af6a63bd1dab1",
            "value": 1355256
          }
        },
        "fda307e836a24e1da909e9b1758aa6fa": {
          "model_module": "@jupyter-widgets/controls",
          "model_name": "HTMLModel",
          "model_module_version": "1.5.0",
          "state": {
            "_dom_classes": [],
            "_model_module": "@jupyter-widgets/controls",
            "_model_module_version": "1.5.0",
            "_model_name": "HTMLModel",
            "_view_count": null,
            "_view_module": "@jupyter-widgets/controls",
            "_view_module_version": "1.5.0",
            "_view_name": "HTMLView",
            "description": "",
            "description_tooltip": null,
            "layout": "IPY_MODEL_4592b958e99c4a2588ffa3a25fc9ab8c",
            "placeholder": "​",
            "style": "IPY_MODEL_0eab182a1b4e4e0494a0b1534e5e91ec",
            "value": " 1.36M/1.36M [00:01&lt;00:00, 1.25MB/s]"
          }
        },
        "403697faca024dec801c979dd446fc8d": {
          "model_module": "@jupyter-widgets/base",
          "model_name": "LayoutModel",
          "model_module_version": "1.2.0",
          "state": {
            "_model_module": "@jupyter-widgets/base",
            "_model_module_version": "1.2.0",
            "_model_name": "LayoutModel",
            "_view_count": null,
            "_view_module": "@jupyter-widgets/base",
            "_view_module_version": "1.2.0",
            "_view_name": "LayoutView",
            "align_content": null,
            "align_items": null,
            "align_self": null,
            "border": null,
            "bottom": null,
            "display": null,
            "flex": null,
            "flex_flow": null,
            "grid_area": null,
            "grid_auto_columns": null,
            "grid_auto_flow": null,
            "grid_auto_rows": null,
            "grid_column": null,
            "grid_gap": null,
            "grid_row": null,
            "grid_template_areas": null,
            "grid_template_columns": null,
            "grid_template_rows": null,
            "height": null,
            "justify_content": null,
            "justify_items": null,
            "left": null,
            "margin": null,
            "max_height": null,
            "max_width": null,
            "min_height": null,
            "min_width": null,
            "object_fit": null,
            "object_position": null,
            "order": null,
            "overflow": null,
            "overflow_x": null,
            "overflow_y": null,
            "padding": null,
            "right": null,
            "top": null,
            "visibility": null,
            "width": null
          }
        },
        "8c2f45e105bc4855a5be8a75bcef1cb0": {
          "model_module": "@jupyter-widgets/base",
          "model_name": "LayoutModel",
          "model_module_version": "1.2.0",
          "state": {
            "_model_module": "@jupyter-widgets/base",
            "_model_module_version": "1.2.0",
            "_model_name": "LayoutModel",
            "_view_count": null,
            "_view_module": "@jupyter-widgets/base",
            "_view_module_version": "1.2.0",
            "_view_name": "LayoutView",
            "align_content": null,
            "align_items": null,
            "align_self": null,
            "border": null,
            "bottom": null,
            "display": null,
            "flex": null,
            "flex_flow": null,
            "grid_area": null,
            "grid_auto_columns": null,
            "grid_auto_flow": null,
            "grid_auto_rows": null,
            "grid_column": null,
            "grid_gap": null,
            "grid_row": null,
            "grid_template_areas": null,
            "grid_template_columns": null,
            "grid_template_rows": null,
            "height": null,
            "justify_content": null,
            "justify_items": null,
            "left": null,
            "margin": null,
            "max_height": null,
            "max_width": null,
            "min_height": null,
            "min_width": null,
            "object_fit": null,
            "object_position": null,
            "order": null,
            "overflow": null,
            "overflow_x": null,
            "overflow_y": null,
            "padding": null,
            "right": null,
            "top": null,
            "visibility": null,
            "width": null
          }
        },
        "a7df332b358c442998875cd348d12341": {
          "model_module": "@jupyter-widgets/controls",
          "model_name": "DescriptionStyleModel",
          "model_module_version": "1.5.0",
          "state": {
            "_model_module": "@jupyter-widgets/controls",
            "_model_module_version": "1.5.0",
            "_model_name": "DescriptionStyleModel",
            "_view_count": null,
            "_view_module": "@jupyter-widgets/base",
            "_view_module_version": "1.2.0",
            "_view_name": "StyleView",
            "description_width": ""
          }
        },
        "35953623e91b442087c30b9b9e3d5aaa": {
          "model_module": "@jupyter-widgets/base",
          "model_name": "LayoutModel",
          "model_module_version": "1.2.0",
          "state": {
            "_model_module": "@jupyter-widgets/base",
            "_model_module_version": "1.2.0",
            "_model_name": "LayoutModel",
            "_view_count": null,
            "_view_module": "@jupyter-widgets/base",
            "_view_module_version": "1.2.0",
            "_view_name": "LayoutView",
            "align_content": null,
            "align_items": null,
            "align_self": null,
            "border": null,
            "bottom": null,
            "display": null,
            "flex": null,
            "flex_flow": null,
            "grid_area": null,
            "grid_auto_columns": null,
            "grid_auto_flow": null,
            "grid_auto_rows": null,
            "grid_column": null,
            "grid_gap": null,
            "grid_row": null,
            "grid_template_areas": null,
            "grid_template_columns": null,
            "grid_template_rows": null,
            "height": null,
            "justify_content": null,
            "justify_items": null,
            "left": null,
            "margin": null,
            "max_height": null,
            "max_width": null,
            "min_height": null,
            "min_width": null,
            "object_fit": null,
            "object_position": null,
            "order": null,
            "overflow": null,
            "overflow_x": null,
            "overflow_y": null,
            "padding": null,
            "right": null,
            "top": null,
            "visibility": null,
            "width": null
          }
        },
        "4764b8dd6c494cbea56af6a63bd1dab1": {
          "model_module": "@jupyter-widgets/controls",
          "model_name": "ProgressStyleModel",
          "model_module_version": "1.5.0",
          "state": {
            "_model_module": "@jupyter-widgets/controls",
            "_model_module_version": "1.5.0",
            "_model_name": "ProgressStyleModel",
            "_view_count": null,
            "_view_module": "@jupyter-widgets/base",
            "_view_module_version": "1.2.0",
            "_view_name": "StyleView",
            "bar_color": null,
            "description_width": ""
          }
        },
        "4592b958e99c4a2588ffa3a25fc9ab8c": {
          "model_module": "@jupyter-widgets/base",
          "model_name": "LayoutModel",
          "model_module_version": "1.2.0",
          "state": {
            "_model_module": "@jupyter-widgets/base",
            "_model_module_version": "1.2.0",
            "_model_name": "LayoutModel",
            "_view_count": null,
            "_view_module": "@jupyter-widgets/base",
            "_view_module_version": "1.2.0",
            "_view_name": "LayoutView",
            "align_content": null,
            "align_items": null,
            "align_self": null,
            "border": null,
            "bottom": null,
            "display": null,
            "flex": null,
            "flex_flow": null,
            "grid_area": null,
            "grid_auto_columns": null,
            "grid_auto_flow": null,
            "grid_auto_rows": null,
            "grid_column": null,
            "grid_gap": null,
            "grid_row": null,
            "grid_template_areas": null,
            "grid_template_columns": null,
            "grid_template_rows": null,
            "height": null,
            "justify_content": null,
            "justify_items": null,
            "left": null,
            "margin": null,
            "max_height": null,
            "max_width": null,
            "min_height": null,
            "min_width": null,
            "object_fit": null,
            "object_position": null,
            "order": null,
            "overflow": null,
            "overflow_x": null,
            "overflow_y": null,
            "padding": null,
            "right": null,
            "top": null,
            "visibility": null,
            "width": null
          }
        },
        "0eab182a1b4e4e0494a0b1534e5e91ec": {
          "model_module": "@jupyter-widgets/controls",
          "model_name": "DescriptionStyleModel",
          "model_module_version": "1.5.0",
          "state": {
            "_model_module": "@jupyter-widgets/controls",
            "_model_module_version": "1.5.0",
            "_model_name": "DescriptionStyleModel",
            "_view_count": null,
            "_view_module": "@jupyter-widgets/base",
            "_view_module_version": "1.2.0",
            "_view_name": "StyleView",
            "description_width": ""
          }
        },
        "568b26741a7d4bb09380a95a98028d55": {
          "model_module": "@jupyter-widgets/controls",
          "model_name": "HBoxModel",
          "model_module_version": "1.5.0",
          "state": {
            "_dom_classes": [],
            "_model_module": "@jupyter-widgets/controls",
            "_model_module_version": "1.5.0",
            "_model_name": "HBoxModel",
            "_view_count": null,
            "_view_module": "@jupyter-widgets/controls",
            "_view_module_version": "1.5.0",
            "_view_name": "HBoxView",
            "box_style": "",
            "children": [
              "IPY_MODEL_f57864ce1b754e57a2c6c26172ddf767",
              "IPY_MODEL_3c0171e55ff84e24aad7285b5a9d7473",
              "IPY_MODEL_b59734d34b9e42cfbdd2145852489179"
            ],
            "layout": "IPY_MODEL_1fb3751269c84f30b8fe2fa07172f1d6"
          }
        },
        "f57864ce1b754e57a2c6c26172ddf767": {
          "model_module": "@jupyter-widgets/controls",
          "model_name": "HTMLModel",
          "model_module_version": "1.5.0",
          "state": {
            "_dom_classes": [],
            "_model_module": "@jupyter-widgets/controls",
            "_model_module_version": "1.5.0",
            "_model_name": "HTMLModel",
            "_view_count": null,
            "_view_module": "@jupyter-widgets/controls",
            "_view_module_version": "1.5.0",
            "_view_name": "HTMLView",
            "description": "",
            "description_tooltip": null,
            "layout": "IPY_MODEL_a0c756ba50e34ff88d5e55571cc0df8d",
            "placeholder": "​",
            "style": "IPY_MODEL_084d3a04be584cd1a43abef9a74f417a",
            "value": "Downloading pytorch_model.bin: 100%"
          }
        },
        "3c0171e55ff84e24aad7285b5a9d7473": {
          "model_module": "@jupyter-widgets/controls",
          "model_name": "FloatProgressModel",
          "model_module_version": "1.5.0",
          "state": {
            "_dom_classes": [],
            "_model_module": "@jupyter-widgets/controls",
            "_model_module_version": "1.5.0",
            "_model_name": "FloatProgressModel",
            "_view_count": null,
            "_view_module": "@jupyter-widgets/controls",
            "_view_module_version": "1.5.0",
            "_view_name": "ProgressView",
            "bar_style": "success",
            "description": "",
            "description_tooltip": null,
            "layout": "IPY_MODEL_803f00e420ef4c5c8863b6a13d9a5324",
            "max": 345636463,
            "min": 0,
            "orientation": "horizontal",
            "style": "IPY_MODEL_8d3847e6e68a4db995ce5246017930e9",
            "value": 345636463
          }
        },
        "b59734d34b9e42cfbdd2145852489179": {
          "model_module": "@jupyter-widgets/controls",
          "model_name": "HTMLModel",
          "model_module_version": "1.5.0",
          "state": {
            "_dom_classes": [],
            "_model_module": "@jupyter-widgets/controls",
            "_model_module_version": "1.5.0",
            "_model_name": "HTMLModel",
            "_view_count": null,
            "_view_module": "@jupyter-widgets/controls",
            "_view_module_version": "1.5.0",
            "_view_name": "HTMLView",
            "description": "",
            "description_tooltip": null,
            "layout": "IPY_MODEL_bc1ddebca68243168a20dd0a2809ae8f",
            "placeholder": "​",
            "style": "IPY_MODEL_c6010580d0ba40019613c42efad90b87",
            "value": " 346M/346M [00:01&lt;00:00, 274MB/s]"
          }
        },
        "1fb3751269c84f30b8fe2fa07172f1d6": {
          "model_module": "@jupyter-widgets/base",
          "model_name": "LayoutModel",
          "model_module_version": "1.2.0",
          "state": {
            "_model_module": "@jupyter-widgets/base",
            "_model_module_version": "1.2.0",
            "_model_name": "LayoutModel",
            "_view_count": null,
            "_view_module": "@jupyter-widgets/base",
            "_view_module_version": "1.2.0",
            "_view_name": "LayoutView",
            "align_content": null,
            "align_items": null,
            "align_self": null,
            "border": null,
            "bottom": null,
            "display": null,
            "flex": null,
            "flex_flow": null,
            "grid_area": null,
            "grid_auto_columns": null,
            "grid_auto_flow": null,
            "grid_auto_rows": null,
            "grid_column": null,
            "grid_gap": null,
            "grid_row": null,
            "grid_template_areas": null,
            "grid_template_columns": null,
            "grid_template_rows": null,
            "height": null,
            "justify_content": null,
            "justify_items": null,
            "left": null,
            "margin": null,
            "max_height": null,
            "max_width": null,
            "min_height": null,
            "min_width": null,
            "object_fit": null,
            "object_position": null,
            "order": null,
            "overflow": null,
            "overflow_x": null,
            "overflow_y": null,
            "padding": null,
            "right": null,
            "top": null,
            "visibility": null,
            "width": null
          }
        },
        "a0c756ba50e34ff88d5e55571cc0df8d": {
          "model_module": "@jupyter-widgets/base",
          "model_name": "LayoutModel",
          "model_module_version": "1.2.0",
          "state": {
            "_model_module": "@jupyter-widgets/base",
            "_model_module_version": "1.2.0",
            "_model_name": "LayoutModel",
            "_view_count": null,
            "_view_module": "@jupyter-widgets/base",
            "_view_module_version": "1.2.0",
            "_view_name": "LayoutView",
            "align_content": null,
            "align_items": null,
            "align_self": null,
            "border": null,
            "bottom": null,
            "display": null,
            "flex": null,
            "flex_flow": null,
            "grid_area": null,
            "grid_auto_columns": null,
            "grid_auto_flow": null,
            "grid_auto_rows": null,
            "grid_column": null,
            "grid_gap": null,
            "grid_row": null,
            "grid_template_areas": null,
            "grid_template_columns": null,
            "grid_template_rows": null,
            "height": null,
            "justify_content": null,
            "justify_items": null,
            "left": null,
            "margin": null,
            "max_height": null,
            "max_width": null,
            "min_height": null,
            "min_width": null,
            "object_fit": null,
            "object_position": null,
            "order": null,
            "overflow": null,
            "overflow_x": null,
            "overflow_y": null,
            "padding": null,
            "right": null,
            "top": null,
            "visibility": null,
            "width": null
          }
        },
        "084d3a04be584cd1a43abef9a74f417a": {
          "model_module": "@jupyter-widgets/controls",
          "model_name": "DescriptionStyleModel",
          "model_module_version": "1.5.0",
          "state": {
            "_model_module": "@jupyter-widgets/controls",
            "_model_module_version": "1.5.0",
            "_model_name": "DescriptionStyleModel",
            "_view_count": null,
            "_view_module": "@jupyter-widgets/base",
            "_view_module_version": "1.2.0",
            "_view_name": "StyleView",
            "description_width": ""
          }
        },
        "803f00e420ef4c5c8863b6a13d9a5324": {
          "model_module": "@jupyter-widgets/base",
          "model_name": "LayoutModel",
          "model_module_version": "1.2.0",
          "state": {
            "_model_module": "@jupyter-widgets/base",
            "_model_module_version": "1.2.0",
            "_model_name": "LayoutModel",
            "_view_count": null,
            "_view_module": "@jupyter-widgets/base",
            "_view_module_version": "1.2.0",
            "_view_name": "LayoutView",
            "align_content": null,
            "align_items": null,
            "align_self": null,
            "border": null,
            "bottom": null,
            "display": null,
            "flex": null,
            "flex_flow": null,
            "grid_area": null,
            "grid_auto_columns": null,
            "grid_auto_flow": null,
            "grid_auto_rows": null,
            "grid_column": null,
            "grid_gap": null,
            "grid_row": null,
            "grid_template_areas": null,
            "grid_template_columns": null,
            "grid_template_rows": null,
            "height": null,
            "justify_content": null,
            "justify_items": null,
            "left": null,
            "margin": null,
            "max_height": null,
            "max_width": null,
            "min_height": null,
            "min_width": null,
            "object_fit": null,
            "object_position": null,
            "order": null,
            "overflow": null,
            "overflow_x": null,
            "overflow_y": null,
            "padding": null,
            "right": null,
            "top": null,
            "visibility": null,
            "width": null
          }
        },
        "8d3847e6e68a4db995ce5246017930e9": {
          "model_module": "@jupyter-widgets/controls",
          "model_name": "ProgressStyleModel",
          "model_module_version": "1.5.0",
          "state": {
            "_model_module": "@jupyter-widgets/controls",
            "_model_module_version": "1.5.0",
            "_model_name": "ProgressStyleModel",
            "_view_count": null,
            "_view_module": "@jupyter-widgets/base",
            "_view_module_version": "1.2.0",
            "_view_name": "StyleView",
            "bar_color": null,
            "description_width": ""
          }
        },
        "bc1ddebca68243168a20dd0a2809ae8f": {
          "model_module": "@jupyter-widgets/base",
          "model_name": "LayoutModel",
          "model_module_version": "1.2.0",
          "state": {
            "_model_module": "@jupyter-widgets/base",
            "_model_module_version": "1.2.0",
            "_model_name": "LayoutModel",
            "_view_count": null,
            "_view_module": "@jupyter-widgets/base",
            "_view_module_version": "1.2.0",
            "_view_name": "LayoutView",
            "align_content": null,
            "align_items": null,
            "align_self": null,
            "border": null,
            "bottom": null,
            "display": null,
            "flex": null,
            "flex_flow": null,
            "grid_area": null,
            "grid_auto_columns": null,
            "grid_auto_flow": null,
            "grid_auto_rows": null,
            "grid_column": null,
            "grid_gap": null,
            "grid_row": null,
            "grid_template_areas": null,
            "grid_template_columns": null,
            "grid_template_rows": null,
            "height": null,
            "justify_content": null,
            "justify_items": null,
            "left": null,
            "margin": null,
            "max_height": null,
            "max_width": null,
            "min_height": null,
            "min_width": null,
            "object_fit": null,
            "object_position": null,
            "order": null,
            "overflow": null,
            "overflow_x": null,
            "overflow_y": null,
            "padding": null,
            "right": null,
            "top": null,
            "visibility": null,
            "width": null
          }
        },
        "c6010580d0ba40019613c42efad90b87": {
          "model_module": "@jupyter-widgets/controls",
          "model_name": "DescriptionStyleModel",
          "model_module_version": "1.5.0",
          "state": {
            "_model_module": "@jupyter-widgets/controls",
            "_model_module_version": "1.5.0",
            "_model_name": "DescriptionStyleModel",
            "_view_count": null,
            "_view_module": "@jupyter-widgets/base",
            "_view_module_version": "1.2.0",
            "_view_name": "StyleView",
            "description_width": ""
          }
        },
        "d4f664e5f4bd4f9db088fe6afb91a099": {
          "model_module": "@jupyter-widgets/controls",
          "model_name": "HBoxModel",
          "model_module_version": "1.5.0",
          "state": {
            "_dom_classes": [],
            "_model_module": "@jupyter-widgets/controls",
            "_model_module_version": "1.5.0",
            "_model_name": "HBoxModel",
            "_view_count": null,
            "_view_module": "@jupyter-widgets/controls",
            "_view_module_version": "1.5.0",
            "_view_name": "HBoxView",
            "box_style": "",
            "children": [
              "IPY_MODEL_ee5d968c4d5f4f4996a586f795753a15",
              "IPY_MODEL_e25f94736a2443eb9ab32c2869e0e36d",
              "IPY_MODEL_910af3aa17c44882b319be166b9ddb81"
            ],
            "layout": "IPY_MODEL_573b5cffeb594362b8a5f3f68873ca76"
          }
        },
        "ee5d968c4d5f4f4996a586f795753a15": {
          "model_module": "@jupyter-widgets/controls",
          "model_name": "HTMLModel",
          "model_module_version": "1.5.0",
          "state": {
            "_dom_classes": [],
            "_model_module": "@jupyter-widgets/controls",
            "_model_module_version": "1.5.0",
            "_model_name": "HTMLModel",
            "_view_count": null,
            "_view_module": "@jupyter-widgets/controls",
            "_view_module_version": "1.5.0",
            "_view_name": "HTMLView",
            "description": "",
            "description_tooltip": null,
            "layout": "IPY_MODEL_7b454caef70743738b8b03c6857f11ab",
            "placeholder": "​",
            "style": "IPY_MODEL_032b466aae8b438f94713ee6c8ef37be",
            "value": "Downloading pytorch_model.bin: 100%"
          }
        },
        "e25f94736a2443eb9ab32c2869e0e36d": {
          "model_module": "@jupyter-widgets/controls",
          "model_name": "FloatProgressModel",
          "model_module_version": "1.5.0",
          "state": {
            "_dom_classes": [],
            "_model_module": "@jupyter-widgets/controls",
            "_model_module_version": "1.5.0",
            "_model_name": "FloatProgressModel",
            "_view_count": null,
            "_view_module": "@jupyter-widgets/controls",
            "_view_module_version": "1.5.0",
            "_view_name": "ProgressView",
            "bar_style": "success",
            "description": "",
            "description_tooltip": null,
            "layout": "IPY_MODEL_15f62fed9bcc463dbdd73123a7813acb",
            "max": 548118077,
            "min": 0,
            "orientation": "horizontal",
            "style": "IPY_MODEL_b263727b65d540dfb75f58bc1efb975d",
            "value": 548118077
          }
        },
        "910af3aa17c44882b319be166b9ddb81": {
          "model_module": "@jupyter-widgets/controls",
          "model_name": "HTMLModel",
          "model_module_version": "1.5.0",
          "state": {
            "_dom_classes": [],
            "_model_module": "@jupyter-widgets/controls",
            "_model_module_version": "1.5.0",
            "_model_name": "HTMLModel",
            "_view_count": null,
            "_view_module": "@jupyter-widgets/controls",
            "_view_module_version": "1.5.0",
            "_view_name": "HTMLView",
            "description": "",
            "description_tooltip": null,
            "layout": "IPY_MODEL_b63f40b2b17a45fcbc01b79a8d05adb4",
            "placeholder": "​",
            "style": "IPY_MODEL_a804dfb1f48e4770ba9ce747e50d30ae",
            "value": " 548M/548M [00:01&lt;00:00, 286MB/s]"
          }
        },
        "573b5cffeb594362b8a5f3f68873ca76": {
          "model_module": "@jupyter-widgets/base",
          "model_name": "LayoutModel",
          "model_module_version": "1.2.0",
          "state": {
            "_model_module": "@jupyter-widgets/base",
            "_model_module_version": "1.2.0",
            "_model_name": "LayoutModel",
            "_view_count": null,
            "_view_module": "@jupyter-widgets/base",
            "_view_module_version": "1.2.0",
            "_view_name": "LayoutView",
            "align_content": null,
            "align_items": null,
            "align_self": null,
            "border": null,
            "bottom": null,
            "display": null,
            "flex": null,
            "flex_flow": null,
            "grid_area": null,
            "grid_auto_columns": null,
            "grid_auto_flow": null,
            "grid_auto_rows": null,
            "grid_column": null,
            "grid_gap": null,
            "grid_row": null,
            "grid_template_areas": null,
            "grid_template_columns": null,
            "grid_template_rows": null,
            "height": null,
            "justify_content": null,
            "justify_items": null,
            "left": null,
            "margin": null,
            "max_height": null,
            "max_width": null,
            "min_height": null,
            "min_width": null,
            "object_fit": null,
            "object_position": null,
            "order": null,
            "overflow": null,
            "overflow_x": null,
            "overflow_y": null,
            "padding": null,
            "right": null,
            "top": null,
            "visibility": null,
            "width": null
          }
        },
        "7b454caef70743738b8b03c6857f11ab": {
          "model_module": "@jupyter-widgets/base",
          "model_name": "LayoutModel",
          "model_module_version": "1.2.0",
          "state": {
            "_model_module": "@jupyter-widgets/base",
            "_model_module_version": "1.2.0",
            "_model_name": "LayoutModel",
            "_view_count": null,
            "_view_module": "@jupyter-widgets/base",
            "_view_module_version": "1.2.0",
            "_view_name": "LayoutView",
            "align_content": null,
            "align_items": null,
            "align_self": null,
            "border": null,
            "bottom": null,
            "display": null,
            "flex": null,
            "flex_flow": null,
            "grid_area": null,
            "grid_auto_columns": null,
            "grid_auto_flow": null,
            "grid_auto_rows": null,
            "grid_column": null,
            "grid_gap": null,
            "grid_row": null,
            "grid_template_areas": null,
            "grid_template_columns": null,
            "grid_template_rows": null,
            "height": null,
            "justify_content": null,
            "justify_items": null,
            "left": null,
            "margin": null,
            "max_height": null,
            "max_width": null,
            "min_height": null,
            "min_width": null,
            "object_fit": null,
            "object_position": null,
            "order": null,
            "overflow": null,
            "overflow_x": null,
            "overflow_y": null,
            "padding": null,
            "right": null,
            "top": null,
            "visibility": null,
            "width": null
          }
        },
        "032b466aae8b438f94713ee6c8ef37be": {
          "model_module": "@jupyter-widgets/controls",
          "model_name": "DescriptionStyleModel",
          "model_module_version": "1.5.0",
          "state": {
            "_model_module": "@jupyter-widgets/controls",
            "_model_module_version": "1.5.0",
            "_model_name": "DescriptionStyleModel",
            "_view_count": null,
            "_view_module": "@jupyter-widgets/base",
            "_view_module_version": "1.2.0",
            "_view_name": "StyleView",
            "description_width": ""
          }
        },
        "15f62fed9bcc463dbdd73123a7813acb": {
          "model_module": "@jupyter-widgets/base",
          "model_name": "LayoutModel",
          "model_module_version": "1.2.0",
          "state": {
            "_model_module": "@jupyter-widgets/base",
            "_model_module_version": "1.2.0",
            "_model_name": "LayoutModel",
            "_view_count": null,
            "_view_module": "@jupyter-widgets/base",
            "_view_module_version": "1.2.0",
            "_view_name": "LayoutView",
            "align_content": null,
            "align_items": null,
            "align_self": null,
            "border": null,
            "bottom": null,
            "display": null,
            "flex": null,
            "flex_flow": null,
            "grid_area": null,
            "grid_auto_columns": null,
            "grid_auto_flow": null,
            "grid_auto_rows": null,
            "grid_column": null,
            "grid_gap": null,
            "grid_row": null,
            "grid_template_areas": null,
            "grid_template_columns": null,
            "grid_template_rows": null,
            "height": null,
            "justify_content": null,
            "justify_items": null,
            "left": null,
            "margin": null,
            "max_height": null,
            "max_width": null,
            "min_height": null,
            "min_width": null,
            "object_fit": null,
            "object_position": null,
            "order": null,
            "overflow": null,
            "overflow_x": null,
            "overflow_y": null,
            "padding": null,
            "right": null,
            "top": null,
            "visibility": null,
            "width": null
          }
        },
        "b263727b65d540dfb75f58bc1efb975d": {
          "model_module": "@jupyter-widgets/controls",
          "model_name": "ProgressStyleModel",
          "model_module_version": "1.5.0",
          "state": {
            "_model_module": "@jupyter-widgets/controls",
            "_model_module_version": "1.5.0",
            "_model_name": "ProgressStyleModel",
            "_view_count": null,
            "_view_module": "@jupyter-widgets/base",
            "_view_module_version": "1.2.0",
            "_view_name": "StyleView",
            "bar_color": null,
            "description_width": ""
          }
        },
        "b63f40b2b17a45fcbc01b79a8d05adb4": {
          "model_module": "@jupyter-widgets/base",
          "model_name": "LayoutModel",
          "model_module_version": "1.2.0",
          "state": {
            "_model_module": "@jupyter-widgets/base",
            "_model_module_version": "1.2.0",
            "_model_name": "LayoutModel",
            "_view_count": null,
            "_view_module": "@jupyter-widgets/base",
            "_view_module_version": "1.2.0",
            "_view_name": "LayoutView",
            "align_content": null,
            "align_items": null,
            "align_self": null,
            "border": null,
            "bottom": null,
            "display": null,
            "flex": null,
            "flex_flow": null,
            "grid_area": null,
            "grid_auto_columns": null,
            "grid_auto_flow": null,
            "grid_auto_rows": null,
            "grid_column": null,
            "grid_gap": null,
            "grid_row": null,
            "grid_template_areas": null,
            "grid_template_columns": null,
            "grid_template_rows": null,
            "height": null,
            "justify_content": null,
            "justify_items": null,
            "left": null,
            "margin": null,
            "max_height": null,
            "max_width": null,
            "min_height": null,
            "min_width": null,
            "object_fit": null,
            "object_position": null,
            "order": null,
            "overflow": null,
            "overflow_x": null,
            "overflow_y": null,
            "padding": null,
            "right": null,
            "top": null,
            "visibility": null,
            "width": null
          }
        },
        "a804dfb1f48e4770ba9ce747e50d30ae": {
          "model_module": "@jupyter-widgets/controls",
          "model_name": "DescriptionStyleModel",
          "model_module_version": "1.5.0",
          "state": {
            "_model_module": "@jupyter-widgets/controls",
            "_model_module_version": "1.5.0",
            "_model_name": "DescriptionStyleModel",
            "_view_count": null,
            "_view_module": "@jupyter-widgets/base",
            "_view_module_version": "1.2.0",
            "_view_name": "StyleView",
            "description_width": ""
          }
        },
        "abfbc86ca0f8406690e7e3e3e17c2f4c": {
          "model_module": "@jupyter-widgets/controls",
          "model_name": "HBoxModel",
          "model_module_version": "1.5.0",
          "state": {
            "_dom_classes": [],
            "_model_module": "@jupyter-widgets/controls",
            "_model_module_version": "1.5.0",
            "_model_name": "HBoxModel",
            "_view_count": null,
            "_view_module": "@jupyter-widgets/controls",
            "_view_module_version": "1.5.0",
            "_view_name": "HBoxView",
            "box_style": "",
            "children": [
              "IPY_MODEL_d5f0421c270f4eedbf14304366035001",
              "IPY_MODEL_45e76b968bf84e47a4cf4cf67f52da4c",
              "IPY_MODEL_fe92f8a4f3404dd5bf048b86154e38df"
            ],
            "layout": "IPY_MODEL_4f11e62d8897490594111b02da1fe53f"
          }
        },
        "d5f0421c270f4eedbf14304366035001": {
          "model_module": "@jupyter-widgets/controls",
          "model_name": "HTMLModel",
          "model_module_version": "1.5.0",
          "state": {
            "_dom_classes": [],
            "_model_module": "@jupyter-widgets/controls",
            "_model_module_version": "1.5.0",
            "_model_name": "HTMLModel",
            "_view_count": null,
            "_view_module": "@jupyter-widgets/controls",
            "_view_module_version": "1.5.0",
            "_view_name": "HTMLView",
            "description": "",
            "description_tooltip": null,
            "layout": "IPY_MODEL_8f85f861f8a54891a041113600d2cacc",
            "placeholder": "​",
            "style": "IPY_MODEL_8d49280aa4bd47ac945833988e8c7925",
            "value": "Downloading (…)neration_config.json: 100%"
          }
        },
        "45e76b968bf84e47a4cf4cf67f52da4c": {
          "model_module": "@jupyter-widgets/controls",
          "model_name": "FloatProgressModel",
          "model_module_version": "1.5.0",
          "state": {
            "_dom_classes": [],
            "_model_module": "@jupyter-widgets/controls",
            "_model_module_version": "1.5.0",
            "_model_name": "FloatProgressModel",
            "_view_count": null,
            "_view_module": "@jupyter-widgets/controls",
            "_view_module_version": "1.5.0",
            "_view_name": "ProgressView",
            "bar_style": "success",
            "description": "",
            "description_tooltip": null,
            "layout": "IPY_MODEL_00f8689aeba548f5bc05feb689b93d6b",
            "max": 124,
            "min": 0,
            "orientation": "horizontal",
            "style": "IPY_MODEL_49f1fd8aeef44e13a22b995a4a3d8bad",
            "value": 124
          }
        },
        "fe92f8a4f3404dd5bf048b86154e38df": {
          "model_module": "@jupyter-widgets/controls",
          "model_name": "HTMLModel",
          "model_module_version": "1.5.0",
          "state": {
            "_dom_classes": [],
            "_model_module": "@jupyter-widgets/controls",
            "_model_module_version": "1.5.0",
            "_model_name": "HTMLModel",
            "_view_count": null,
            "_view_module": "@jupyter-widgets/controls",
            "_view_module_version": "1.5.0",
            "_view_name": "HTMLView",
            "description": "",
            "description_tooltip": null,
            "layout": "IPY_MODEL_76d50f9a911147c990b3be5f2a20c7a5",
            "placeholder": "​",
            "style": "IPY_MODEL_f67493ab5a794ee48531656c9c44d0ed",
            "value": " 124/124 [00:00&lt;00:00, 9.34kB/s]"
          }
        },
        "4f11e62d8897490594111b02da1fe53f": {
          "model_module": "@jupyter-widgets/base",
          "model_name": "LayoutModel",
          "model_module_version": "1.2.0",
          "state": {
            "_model_module": "@jupyter-widgets/base",
            "_model_module_version": "1.2.0",
            "_model_name": "LayoutModel",
            "_view_count": null,
            "_view_module": "@jupyter-widgets/base",
            "_view_module_version": "1.2.0",
            "_view_name": "LayoutView",
            "align_content": null,
            "align_items": null,
            "align_self": null,
            "border": null,
            "bottom": null,
            "display": null,
            "flex": null,
            "flex_flow": null,
            "grid_area": null,
            "grid_auto_columns": null,
            "grid_auto_flow": null,
            "grid_auto_rows": null,
            "grid_column": null,
            "grid_gap": null,
            "grid_row": null,
            "grid_template_areas": null,
            "grid_template_columns": null,
            "grid_template_rows": null,
            "height": null,
            "justify_content": null,
            "justify_items": null,
            "left": null,
            "margin": null,
            "max_height": null,
            "max_width": null,
            "min_height": null,
            "min_width": null,
            "object_fit": null,
            "object_position": null,
            "order": null,
            "overflow": null,
            "overflow_x": null,
            "overflow_y": null,
            "padding": null,
            "right": null,
            "top": null,
            "visibility": null,
            "width": null
          }
        },
        "8f85f861f8a54891a041113600d2cacc": {
          "model_module": "@jupyter-widgets/base",
          "model_name": "LayoutModel",
          "model_module_version": "1.2.0",
          "state": {
            "_model_module": "@jupyter-widgets/base",
            "_model_module_version": "1.2.0",
            "_model_name": "LayoutModel",
            "_view_count": null,
            "_view_module": "@jupyter-widgets/base",
            "_view_module_version": "1.2.0",
            "_view_name": "LayoutView",
            "align_content": null,
            "align_items": null,
            "align_self": null,
            "border": null,
            "bottom": null,
            "display": null,
            "flex": null,
            "flex_flow": null,
            "grid_area": null,
            "grid_auto_columns": null,
            "grid_auto_flow": null,
            "grid_auto_rows": null,
            "grid_column": null,
            "grid_gap": null,
            "grid_row": null,
            "grid_template_areas": null,
            "grid_template_columns": null,
            "grid_template_rows": null,
            "height": null,
            "justify_content": null,
            "justify_items": null,
            "left": null,
            "margin": null,
            "max_height": null,
            "max_width": null,
            "min_height": null,
            "min_width": null,
            "object_fit": null,
            "object_position": null,
            "order": null,
            "overflow": null,
            "overflow_x": null,
            "overflow_y": null,
            "padding": null,
            "right": null,
            "top": null,
            "visibility": null,
            "width": null
          }
        },
        "8d49280aa4bd47ac945833988e8c7925": {
          "model_module": "@jupyter-widgets/controls",
          "model_name": "DescriptionStyleModel",
          "model_module_version": "1.5.0",
          "state": {
            "_model_module": "@jupyter-widgets/controls",
            "_model_module_version": "1.5.0",
            "_model_name": "DescriptionStyleModel",
            "_view_count": null,
            "_view_module": "@jupyter-widgets/base",
            "_view_module_version": "1.2.0",
            "_view_name": "StyleView",
            "description_width": ""
          }
        },
        "00f8689aeba548f5bc05feb689b93d6b": {
          "model_module": "@jupyter-widgets/base",
          "model_name": "LayoutModel",
          "model_module_version": "1.2.0",
          "state": {
            "_model_module": "@jupyter-widgets/base",
            "_model_module_version": "1.2.0",
            "_model_name": "LayoutModel",
            "_view_count": null,
            "_view_module": "@jupyter-widgets/base",
            "_view_module_version": "1.2.0",
            "_view_name": "LayoutView",
            "align_content": null,
            "align_items": null,
            "align_self": null,
            "border": null,
            "bottom": null,
            "display": null,
            "flex": null,
            "flex_flow": null,
            "grid_area": null,
            "grid_auto_columns": null,
            "grid_auto_flow": null,
            "grid_auto_rows": null,
            "grid_column": null,
            "grid_gap": null,
            "grid_row": null,
            "grid_template_areas": null,
            "grid_template_columns": null,
            "grid_template_rows": null,
            "height": null,
            "justify_content": null,
            "justify_items": null,
            "left": null,
            "margin": null,
            "max_height": null,
            "max_width": null,
            "min_height": null,
            "min_width": null,
            "object_fit": null,
            "object_position": null,
            "order": null,
            "overflow": null,
            "overflow_x": null,
            "overflow_y": null,
            "padding": null,
            "right": null,
            "top": null,
            "visibility": null,
            "width": null
          }
        },
        "49f1fd8aeef44e13a22b995a4a3d8bad": {
          "model_module": "@jupyter-widgets/controls",
          "model_name": "ProgressStyleModel",
          "model_module_version": "1.5.0",
          "state": {
            "_model_module": "@jupyter-widgets/controls",
            "_model_module_version": "1.5.0",
            "_model_name": "ProgressStyleModel",
            "_view_count": null,
            "_view_module": "@jupyter-widgets/base",
            "_view_module_version": "1.2.0",
            "_view_name": "StyleView",
            "bar_color": null,
            "description_width": ""
          }
        },
        "76d50f9a911147c990b3be5f2a20c7a5": {
          "model_module": "@jupyter-widgets/base",
          "model_name": "LayoutModel",
          "model_module_version": "1.2.0",
          "state": {
            "_model_module": "@jupyter-widgets/base",
            "_model_module_version": "1.2.0",
            "_model_name": "LayoutModel",
            "_view_count": null,
            "_view_module": "@jupyter-widgets/base",
            "_view_module_version": "1.2.0",
            "_view_name": "LayoutView",
            "align_content": null,
            "align_items": null,
            "align_self": null,
            "border": null,
            "bottom": null,
            "display": null,
            "flex": null,
            "flex_flow": null,
            "grid_area": null,
            "grid_auto_columns": null,
            "grid_auto_flow": null,
            "grid_auto_rows": null,
            "grid_column": null,
            "grid_gap": null,
            "grid_row": null,
            "grid_template_areas": null,
            "grid_template_columns": null,
            "grid_template_rows": null,
            "height": null,
            "justify_content": null,
            "justify_items": null,
            "left": null,
            "margin": null,
            "max_height": null,
            "max_width": null,
            "min_height": null,
            "min_width": null,
            "object_fit": null,
            "object_position": null,
            "order": null,
            "overflow": null,
            "overflow_x": null,
            "overflow_y": null,
            "padding": null,
            "right": null,
            "top": null,
            "visibility": null,
            "width": null
          }
        },
        "f67493ab5a794ee48531656c9c44d0ed": {
          "model_module": "@jupyter-widgets/controls",
          "model_name": "DescriptionStyleModel",
          "model_module_version": "1.5.0",
          "state": {
            "_model_module": "@jupyter-widgets/controls",
            "_model_module_version": "1.5.0",
            "_model_name": "DescriptionStyleModel",
            "_view_count": null,
            "_view_module": "@jupyter-widgets/base",
            "_view_module_version": "1.2.0",
            "_view_name": "StyleView",
            "description_width": ""
          }
        }
      }
    },
    "accelerator": "GPU"
  },
  "nbformat": 4,
  "nbformat_minor": 0
}